{
 "cells": [
  {
   "cell_type": "markdown",
   "metadata": {},
   "source": [
    "## Tampons vs Positives\n",
    "### Click on top of the right corner to see plotly plot"
   ]
  },
  {
   "cell_type": "code",
   "execution_count": null,
   "metadata": {},
   "outputs": [],
   "source": [
    "import pandas as pd\n",
    "import seaborn as sns\n",
    "import datetime\n",
    "sns.set()\n",
    "import matplotlib.pyplot as plt\n",
    "%matplotlib inline\n",
    "import plotly.graph_objects as go\n",
    "\n",
    "pd.options.mode.chained_assignment = None"
   ]
  },
  {
   "cell_type": "code",
   "execution_count": null,
   "metadata": {},
   "outputs": [],
   "source": [
    "csvname = [\"23.02\",\"24.02\",\"25.02\",\"26.02\",\"27.02\",\"28.02\",\"29.02\",\"01.03\",\"02.03\",\"03.03\",\"04.03\",\"05.03\",\"06.03\"]"
   ]
  },
  {
   "cell_type": "code",
   "execution_count": null,
   "metadata": {},
   "outputs": [],
   "source": [
    "dfall = []\n",
    "\n",
    "for i in csvname:\n",
    "  #  print(i)\n",
    "    dftmp = pd.read_csv('https://raw.githubusercontent.com/carlotorniai/COVID-19-Italy/develop/data/csv/'+i+'.csv')\n",
    "    dftmp['data'] = i\n",
    "    dftmp = dftmp[dftmp['Regione'] != 'Somma Totale']\n",
    "    dftmp['Tamponi/Positivi'] = round(dftmp['Tamponi'] / dftmp['Totale Positivi'],1)\n",
    "    dftmp[\"Regione\"] = dftmp.Regione.apply(lambda x: 'Emilia Romagna' if x == 'Emila Romanga' else x)\n",
    "    dftmp[\"data_pars\"] = dftmp.data.apply(lambda x: datetime.datetime.strptime((x+'.2020'), '%d.%m.%Y'))\n",
    "    dfall.append(dftmp)\n",
    "   # dfall['data'] = i+'2020'"
   ]
  },
  {
   "cell_type": "code",
   "execution_count": null,
   "metadata": {},
   "outputs": [],
   "source": [
    "dfclean = pd.concat(dfall).fillna(0)"
   ]
  },
  {
   "cell_type": "code",
   "execution_count": null,
   "metadata": {},
   "outputs": [],
   "source": [
    "dfclean.head(3)"
   ]
  },
  {
   "cell_type": "code",
   "execution_count": null,
   "metadata": {},
   "outputs": [],
   "source": [
    "import plotly.express as px"
   ]
  },
  {
   "cell_type": "code",
   "execution_count": null,
   "metadata": {},
   "outputs": [],
   "source": [
    "df = dfclean.query('Regione == \"Lombardia\" or Regione == \"Veneto\" or Regione == \"Emilia Romagna\"')"
   ]
  },
  {
   "cell_type": "code",
   "execution_count": null,
   "metadata": {},
   "outputs": [],
   "source": [
    "sns.scatterplot(x=\"data\", y=\"Tamponi\",\n",
    "                     hue=\"Regione\", size=\"Tamponi/Positivi\",legend = \"brief\",\n",
    "                     data=df)\n",
    "plt.legend(bbox_to_anchor=(1.05, 1), loc=2, borderaxespad=0.)"
   ]
  },
  {
   "cell_type": "code",
   "execution_count": null,
   "metadata": {},
   "outputs": [],
   "source": [
    "## PLOTLY INTERACTIVE\n",
    "### to see it click on theta symbol next to first chunk\n",
    "fig = px.scatter(df, x=\"data\", y=\"Tamponi\", color=\"Regione\",\n",
    "                 hover_name=\"Totale Positivi\",\n",
    "              size=\"Tamponi/Positivi\")\n",
    "\n",
    "fig.show()"
   ]
  },
  {
   "cell_type": "code",
   "execution_count": null,
   "metadata": {},
   "outputs": [],
   "source": []
  }
 ],
 "metadata": {
  "kernelspec": {
   "display_name": "Python 3",
   "language": "python",
   "name": "python3"
  },
  "language_info": {
   "codemirror_mode": {
    "name": "ipython",
    "version": 3
   },
   "file_extension": ".py",
   "mimetype": "text/x-python",
   "name": "python",
   "nbconvert_exporter": "python",
   "pygments_lexer": "ipython3",
   "version": "3.7.4"
  }
 },
 "nbformat": 4,
 "nbformat_minor": 2
}
