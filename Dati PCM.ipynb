{
 "cells": [
  {
   "cell_type": "markdown",
   "metadata": {},
   "source": [
    "## Dati da GitHub PCM"
   ]
  },
  {
   "cell_type": "code",
   "execution_count": 1,
   "metadata": {},
   "outputs": [],
   "source": [
    "import pandas as pd\n",
    "import seaborn as sns\n",
    "import datetime\n",
    "sns.set()\n",
    "import matplotlib.pyplot as plt\n",
    "%matplotlib inline\n",
    "import plotly.graph_objects as go\n",
    "\n",
    "pd.options.mode.chained_assignment = None"
   ]
  },
  {
   "cell_type": "markdown",
   "metadata": {},
   "source": [
    "## Regioni"
   ]
  },
  {
   "cell_type": "code",
   "execution_count": 17,
   "metadata": {},
   "outputs": [],
   "source": [
    "giorni = (datetime.datetime.today() - datetime.datetime.strptime(('20200224'), '%Y%m%d')).days\n",
    "datainizio = datetime.datetime.strptime(('20200224'), '%Y%m%d').strftime('%Y%m%d')\n",
    "listadate = pd.date_range(datainizio, periods=giorni).strftime('%Y%m%d')"
   ]
  },
  {
   "cell_type": "code",
   "execution_count": 18,
   "metadata": {},
   "outputs": [],
   "source": [
    "link = \"https://raw.githubusercontent.com/pcm-dpc/COVID-19/master/dati-regioni/dpc-covid19-ita-regioni-\""
   ]
  },
  {
   "cell_type": "code",
   "execution_count": 19,
   "metadata": {
    "scrolled": true
   },
   "outputs": [
    {
     "name": "stdout",
     "output_type": "stream",
     "text": [
      "20200224\n",
      "20200225\n",
      "20200226\n",
      "20200227\n",
      "20200228\n",
      "20200229\n",
      "20200301\n",
      "20200302\n",
      "20200303\n",
      "20200304\n",
      "20200305\n",
      "20200306\n"
     ]
    }
   ],
   "source": [
    "dfreg0 = []\n",
    "for i in listadate:\n",
    "    print(i)\n",
    "    dftmp = pd.read_csv(link+i+'.csv',encoding = \"ISO-8859-1\")\n",
    "    dftmp['tamponi_positivi'] = round(dftmp['tamponi'] / dftmp['totale_casi'],1)\n",
    "    dftmp[\"data_pars\"] = dftmp.data.apply(lambda x: datetime.datetime.strptime((x), '%Y-%m-%d %H:%M:%S'))\n",
    "    dfreg0.append(dftmp)"
   ]
  },
  {
   "cell_type": "code",
   "execution_count": 21,
   "metadata": {},
   "outputs": [
    {
     "data": {
      "text/html": [
       "<div>\n",
       "<style scoped>\n",
       "    .dataframe tbody tr th:only-of-type {\n",
       "        vertical-align: middle;\n",
       "    }\n",
       "\n",
       "    .dataframe tbody tr th {\n",
       "        vertical-align: top;\n",
       "    }\n",
       "\n",
       "    .dataframe thead th {\n",
       "        text-align: right;\n",
       "    }\n",
       "</style>\n",
       "<table border=\"1\" class=\"dataframe\">\n",
       "  <thead>\n",
       "    <tr style=\"text-align: right;\">\n",
       "      <th></th>\n",
       "      <th>data</th>\n",
       "      <th>stato</th>\n",
       "      <th>codice_regione</th>\n",
       "      <th>denominazione_regione</th>\n",
       "      <th>lat</th>\n",
       "      <th>long</th>\n",
       "      <th>ricoverati_con_sintomi</th>\n",
       "      <th>terapia_intensiva</th>\n",
       "      <th>totale_ospedalizzati</th>\n",
       "      <th>isolamento_domiciliare</th>\n",
       "      <th>totale_attualmente_positivi</th>\n",
       "      <th>nuovi_attualmente_positivi</th>\n",
       "      <th>dimessi_guariti</th>\n",
       "      <th>deceduti</th>\n",
       "      <th>totale_casi</th>\n",
       "      <th>tamponi</th>\n",
       "      <th>tamponi_positivi</th>\n",
       "      <th>data_pars</th>\n",
       "    </tr>\n",
       "  </thead>\n",
       "  <tbody>\n",
       "    <tr>\n",
       "      <th>0</th>\n",
       "      <td>2020-02-24 18:00:00</td>\n",
       "      <td>ITA</td>\n",
       "      <td>13</td>\n",
       "      <td>Abruzzo</td>\n",
       "      <td>42.351222</td>\n",
       "      <td>13.398438</td>\n",
       "      <td>0</td>\n",
       "      <td>0</td>\n",
       "      <td>0</td>\n",
       "      <td>0</td>\n",
       "      <td>0</td>\n",
       "      <td>0</td>\n",
       "      <td>0</td>\n",
       "      <td>0</td>\n",
       "      <td>0</td>\n",
       "      <td>5</td>\n",
       "      <td>inf</td>\n",
       "      <td>2020-02-24 18:00:00</td>\n",
       "    </tr>\n",
       "    <tr>\n",
       "      <th>1</th>\n",
       "      <td>2020-02-24 18:00:00</td>\n",
       "      <td>ITA</td>\n",
       "      <td>17</td>\n",
       "      <td>Basilicata</td>\n",
       "      <td>40.639471</td>\n",
       "      <td>15.805148</td>\n",
       "      <td>0</td>\n",
       "      <td>0</td>\n",
       "      <td>0</td>\n",
       "      <td>0</td>\n",
       "      <td>0</td>\n",
       "      <td>0</td>\n",
       "      <td>0</td>\n",
       "      <td>0</td>\n",
       "      <td>0</td>\n",
       "      <td>0</td>\n",
       "      <td>NaN</td>\n",
       "      <td>2020-02-24 18:00:00</td>\n",
       "    </tr>\n",
       "    <tr>\n",
       "      <th>2</th>\n",
       "      <td>2020-02-24 18:00:00</td>\n",
       "      <td>ITA</td>\n",
       "      <td>4</td>\n",
       "      <td>Bolzano</td>\n",
       "      <td>46.499335</td>\n",
       "      <td>11.356624</td>\n",
       "      <td>0</td>\n",
       "      <td>0</td>\n",
       "      <td>0</td>\n",
       "      <td>0</td>\n",
       "      <td>0</td>\n",
       "      <td>0</td>\n",
       "      <td>0</td>\n",
       "      <td>0</td>\n",
       "      <td>0</td>\n",
       "      <td>1</td>\n",
       "      <td>inf</td>\n",
       "      <td>2020-02-24 18:00:00</td>\n",
       "    </tr>\n",
       "    <tr>\n",
       "      <th>3</th>\n",
       "      <td>2020-02-24 18:00:00</td>\n",
       "      <td>ITA</td>\n",
       "      <td>18</td>\n",
       "      <td>Calabria</td>\n",
       "      <td>38.905976</td>\n",
       "      <td>16.594402</td>\n",
       "      <td>0</td>\n",
       "      <td>0</td>\n",
       "      <td>0</td>\n",
       "      <td>0</td>\n",
       "      <td>0</td>\n",
       "      <td>0</td>\n",
       "      <td>0</td>\n",
       "      <td>0</td>\n",
       "      <td>0</td>\n",
       "      <td>1</td>\n",
       "      <td>inf</td>\n",
       "      <td>2020-02-24 18:00:00</td>\n",
       "    </tr>\n",
       "    <tr>\n",
       "      <th>4</th>\n",
       "      <td>2020-02-24 18:00:00</td>\n",
       "      <td>ITA</td>\n",
       "      <td>15</td>\n",
       "      <td>Campania</td>\n",
       "      <td>40.839566</td>\n",
       "      <td>14.250850</td>\n",
       "      <td>0</td>\n",
       "      <td>0</td>\n",
       "      <td>0</td>\n",
       "      <td>0</td>\n",
       "      <td>0</td>\n",
       "      <td>0</td>\n",
       "      <td>0</td>\n",
       "      <td>0</td>\n",
       "      <td>0</td>\n",
       "      <td>10</td>\n",
       "      <td>inf</td>\n",
       "      <td>2020-02-24 18:00:00</td>\n",
       "    </tr>\n",
       "  </tbody>\n",
       "</table>\n",
       "</div>"
      ],
      "text/plain": [
       "                  data stato  codice_regione denominazione_regione        lat  \\\n",
       "0  2020-02-24 18:00:00   ITA              13               Abruzzo  42.351222   \n",
       "1  2020-02-24 18:00:00   ITA              17            Basilicata  40.639471   \n",
       "2  2020-02-24 18:00:00   ITA               4               Bolzano  46.499335   \n",
       "3  2020-02-24 18:00:00   ITA              18              Calabria  38.905976   \n",
       "4  2020-02-24 18:00:00   ITA              15              Campania  40.839566   \n",
       "\n",
       "        long  ricoverati_con_sintomi  terapia_intensiva  totale_ospedalizzati  \\\n",
       "0  13.398438                       0                  0                     0   \n",
       "1  15.805148                       0                  0                     0   \n",
       "2  11.356624                       0                  0                     0   \n",
       "3  16.594402                       0                  0                     0   \n",
       "4  14.250850                       0                  0                     0   \n",
       "\n",
       "   isolamento_domiciliare  totale_attualmente_positivi  \\\n",
       "0                       0                            0   \n",
       "1                       0                            0   \n",
       "2                       0                            0   \n",
       "3                       0                            0   \n",
       "4                       0                            0   \n",
       "\n",
       "   nuovi_attualmente_positivi  dimessi_guariti  deceduti  totale_casi  \\\n",
       "0                           0                0         0            0   \n",
       "1                           0                0         0            0   \n",
       "2                           0                0         0            0   \n",
       "3                           0                0         0            0   \n",
       "4                           0                0         0            0   \n",
       "\n",
       "   tamponi  tamponi_positivi           data_pars  \n",
       "0        5               inf 2020-02-24 18:00:00  \n",
       "1        0               NaN 2020-02-24 18:00:00  \n",
       "2        1               inf 2020-02-24 18:00:00  \n",
       "3        1               inf 2020-02-24 18:00:00  \n",
       "4       10               inf 2020-02-24 18:00:00  "
      ]
     },
     "execution_count": 21,
     "metadata": {},
     "output_type": "execute_result"
    }
   ],
   "source": [
    "dfreg = pd.concat(dfreg0)\n",
    "#del dfreg['Unnamed: 16']\n",
    "dfreg.head()"
   ]
  },
  {
   "cell_type": "code",
   "execution_count": 22,
   "metadata": {},
   "outputs": [
    {
     "data": {
      "text/plain": [
       "array(['2020-02-24 18:00:00', '2020-02-25 18:00:00',\n",
       "       '2020-02-26 18:00:00', '2020-02-27 18:00:00',\n",
       "       '2020-02-28 18:00:00', '2020-02-29 17:00:00',\n",
       "       '2020-03-01 17:00:00', '2020-03-02 18:00:00',\n",
       "       '2020-03-03 18:00:00', '2020-03-04 17:00:00',\n",
       "       '2020-03-05 17:00:00', '2020-03-06 17:00:00'], dtype=object)"
      ]
     },
     "execution_count": 22,
     "metadata": {},
     "output_type": "execute_result"
    }
   ],
   "source": [
    "dfreg.data.unique()"
   ]
  },
  {
   "cell_type": "code",
   "execution_count": 23,
   "metadata": {},
   "outputs": [],
   "source": [
    "import plotly.express as px"
   ]
  },
  {
   "cell_type": "markdown",
   "metadata": {},
   "source": [
    "### Tamponi vs Positivi"
   ]
  },
  {
   "cell_type": "code",
   "execution_count": 24,
   "metadata": {},
   "outputs": [],
   "source": [
    "df = (dfreg.query('denominazione_regione == \"Lombardia\" or denominazione_regione == \"Veneto\" or denominazione_regione == \"Emilia Romagna\"'))"
   ]
  },
  {
   "cell_type": "code",
   "execution_count": 25,
   "metadata": {},
   "outputs": [
    {
     "data": {
      "text/plain": [
       "<matplotlib.legend.Legend at 0x11fcb0f50>"
      ]
     },
     "execution_count": 25,
     "metadata": {},
     "output_type": "execute_result"
    },
    {
     "data": {
      "image/png": "[encoded data removed]",
      "text/plain": [
       "<Figure size 432x288 with 1 Axes>"
      ]
     },
     "metadata": {
      "needs_background": "light"
     },
     "output_type": "display_data"
    }
   ],
   "source": [
    "sns.scatterplot(x=\"data\", y=\"tamponi\",\n",
    "                     hue=\"denominazione_regione\", size=\"tamponi_positivi\",legend = \"brief\",\n",
    "                     data=df)\n",
    "plt.legend(bbox_to_anchor=(1.05, 1), loc=2, borderaxespad=0.)"
   ]
  },
  {
   "cell_type": "code",
   "execution_count": 26,
   "metadata": {},
   "outputs": [
    {
     "data": {
      "application/vnd.plotly.v1+json": {
       "config": {
        "plotlyServerURL": "https://plot.ly"
       },
       "data": [
        {
         "hoverlabel": {
          "namelength": 0
         },
         "hovertemplate": "<b>%{hovertext}</b><br><br>denominazione_regione=Emilia Romagna<br>data_pars=%{x}<br>tamponi=%{y}<br>tamponi_positivi=%{marker.size}",
         "hovertext": [
          18,
          26,
          47,
          97,
          145,
          217,
          285,
          335,
          420,
          544,
          698,
          870
         ],
         "legendgroup": "denominazione_regione=Emilia Romagna",
         "marker": {
          "color": "#636efa",
          "size": [
           8.2,
           15,
           12.3,
           10.6,
           8.8,
           7.1,
           6.3,
           5.9,
           4.8,
           4.6,
           4.1,
           3.6
          ],
          "sizemode": "area",
          "sizeref": 0.21975,
          "symbol": "circle"
         },
         "mode": "markers",
         "name": "denominazione_regione=Emilia Romagna",
         "showlegend": true,
         "type": "scatter",
         "x": [
          "2020-02-24T18:00:00",
          "2020-02-25T18:00:00",
          "2020-02-26T18:00:00",
          "2020-02-27T18:00:00",
          "2020-02-28T18:00:00",
          "2020-02-29T17:00:00",
          "2020-03-01T17:00:00",
          "2020-03-02T18:00:00",
          "2020-03-03T18:00:00",
          "2020-03-04T17:00:00",
          "2020-03-05T17:00:00",
          "2020-03-06T17:00:00"
         ],
         "xaxis": "x",
         "y": [
          148,
          391,
          577,
          1033,
          1277,
          1550,
          1795,
          1973,
          2012,
          2500,
          2884,
          3136
         ],
         "yaxis": "y"
        },
        {
         "hoverlabel": {
          "namelength": 0
         },
         "hovertemplate": "<b>%{hovertext}</b><br><br>denominazione_regione=Lombardia<br>data_pars=%{x}<br>tamponi=%{y}<br>tamponi_positivi=%{marker.size}",
         "hovertext": [
          172,
          240,
          258,
          403,
          531,
          615,
          984,
          1254,
          1520,
          1820,
          2251,
          2612
         ],
         "legendgroup": "denominazione_regione=Lombardia",
         "marker": {
          "color": "#EF553B",
          "size": [
           8.5,
           15.4,
           12.4,
           8.2,
           9.1,
           9.3,
           7,
           6.3,
           6.3,
           6.7,
           5.5,
           5.2
          ],
          "sizemode": "area",
          "sizeref": 0.21975,
          "symbol": "circle"
         },
         "mode": "markers",
         "name": "denominazione_regione=Lombardia",
         "showlegend": true,
         "type": "scatter",
         "x": [
          "2020-02-24T18:00:00",
          "2020-02-25T18:00:00",
          "2020-02-26T18:00:00",
          "2020-02-27T18:00:00",
          "2020-02-28T18:00:00",
          "2020-02-29T17:00:00",
          "2020-03-01T17:00:00",
          "2020-03-02T18:00:00",
          "2020-03-03T18:00:00",
          "2020-03-04T17:00:00",
          "2020-03-05T17:00:00",
          "2020-03-06T17:00:00"
         ],
         "xaxis": "x",
         "y": [
          1463,
          3700,
          3208,
          3320,
          4835,
          5723,
          6879,
          7925,
          9577,
          12138,
          12354,
          13556
         ],
         "yaxis": "y"
        },
        {
         "hoverlabel": {
          "namelength": 0
         },
         "hovertemplate": "<b>%{hovertext}</b><br><br>denominazione_regione=Veneto<br>data_pars=%{x}<br>tamponi=%{y}<br>tamponi_positivi=%{marker.size}",
         "hovertext": [
          33,
          43,
          71,
          111,
          151,
          191,
          263,
          273,
          307,
          360,
          407,
          488
         ],
         "legendgroup": "denominazione_regione=Veneto",
         "marker": {
          "color": "#00cc96",
          "size": [
           66.7,
           87.9,
           69,
           55.5,
           49.1,
           45.3,
           34.4,
           35.8,
           33.1,
           29.2,
           29.4,
           26.7
          ],
          "sizemode": "area",
          "sizeref": 0.21975,
          "symbol": "circle"
         },
         "mode": "markers",
         "name": "denominazione_regione=Veneto",
         "showlegend": true,
         "type": "scatter",
         "x": [
          "2020-02-24T18:00:00",
          "2020-02-25T18:00:00",
          "2020-02-26T18:00:00",
          "2020-02-27T18:00:00",
          "2020-02-28T18:00:00",
          "2020-02-29T17:00:00",
          "2020-03-01T17:00:00",
          "2020-03-02T18:00:00",
          "2020-03-03T18:00:00",
          "2020-03-04T17:00:00",
          "2020-03-05T17:00:00",
          "2020-03-06T17:00:00"
         ],
         "xaxis": "x",
         "y": [
          2200,
          3780,
          4900,
          6164,
          7414,
          8659,
          9056,
          9782,
          10176,
          10515,
          11949,
          13023
         ],
         "yaxis": "y"
        }
       ],
       "layout": {
        "height": 600,
        "legend": {
         "itemsizing": "constant",
         "tracegroupgap": 0
        },
        "margin": {
         "t": 60
        },
        "template": {
         "data": {
          "bar": [
           {
            "error_x": {
             "color": "#2a3f5f"
            },
            "error_y": {
             "color": "#2a3f5f"
            },
            "marker": {
             "line": {
              "color": "#E5ECF6",
              "width": 0.5
             }
            },
            "type": "bar"
           }
          ],
          "barpolar": [
           {
            "marker": {
             "line": {
              "color": "#E5ECF6",
              "width": 0.5
             }
            },
            "type": "barpolar"
           }
          ],
          "carpet": [
           {
            "aaxis": {
             "endlinecolor": "#2a3f5f",
             "gridcolor": "white",
             "linecolor": "white",
             "minorgridcolor": "white",
             "startlinecolor": "#2a3f5f"
            },
            "baxis": {
             "endlinecolor": "#2a3f5f",
             "gridcolor": "white",
             "linecolor": "white",
             "minorgridcolor": "white",
             "startlinecolor": "#2a3f5f"
            },
            "type": "carpet"
           }
          ],
          "choropleth": [
           {
            "colorbar": {
             "outlinewidth": 0,
             "ticks": ""
            },
            "type": "choropleth"
           }
          ],
          "contour": [
           {
            "colorbar": {
             "outlinewidth": 0,
             "ticks": ""
            },
            "colorscale": [
             [
              0,
              "#0d0887"
             ],
             [
              0.1111111111111111,
              "#46039f"
             ],
             [
              0.2222222222222222,
              "#7201a8"
             ],
             [
              0.3333333333333333,
              "#9c179e"
             ],
             [
              0.4444444444444444,
              "#bd3786"
             ],
             [
              0.5555555555555556,
              "#d8576b"
             ],
             [
              0.6666666666666666,
              "#ed7953"
             ],
             [
              0.7777777777777778,
              "#fb9f3a"
             ],
             [
              0.8888888888888888,
              "#fdca26"
             ],
             [
              1,
              "#f0f921"
             ]
            ],
            "type": "contour"
           }
          ],
          "contourcarpet": [
           {
            "colorbar": {
             "outlinewidth": 0,
             "ticks": ""
            },
            "type": "contourcarpet"
           }
          ],
          "heatmap": [
           {
            "colorbar": {
             "outlinewidth": 0,
             "ticks": ""
            },
            "colorscale": [
             [
              0,
              "#0d0887"
             ],
             [
              0.1111111111111111,
              "#46039f"
             ],
             [
              0.2222222222222222,
              "#7201a8"
             ],
             [
              0.3333333333333333,
              "#9c179e"
             ],
             [
              0.4444444444444444,
              "#bd3786"
             ],
             [
              0.5555555555555556,
              "#d8576b"
             ],
             [
              0.6666666666666666,
              "#ed7953"
             ],
             [
              0.7777777777777778,
              "#fb9f3a"
             ],
             [
              0.8888888888888888,
              "#fdca26"
             ],
             [
              1,
              "#f0f921"
             ]
            ],
            "type": "heatmap"
           }
          ],
          "heatmapgl": [
           {
            "colorbar": {
             "outlinewidth": 0,
             "ticks": ""
            },
            "colorscale": [
             [
              0,
              "#0d0887"
             ],
             [
              0.1111111111111111,
              "#46039f"
             ],
             [
              0.2222222222222222,
              "#7201a8"
             ],
             [
              0.3333333333333333,
              "#9c179e"
             ],
             [
              0.4444444444444444,
              "#bd3786"
             ],
             [
              0.5555555555555556,
              "#d8576b"
             ],
             [
              0.6666666666666666,
              "#ed7953"
             ],
             [
              0.7777777777777778,
              "#fb9f3a"
             ],
             [
              0.8888888888888888,
              "#fdca26"
             ],
             [
              1,
              "#f0f921"
             ]
            ],
            "type": "heatmapgl"
           }
          ],
          "histogram": [
           {
            "marker": {
             "colorbar": {
              "outlinewidth": 0,
              "ticks": ""
             }
            },
            "type": "histogram"
           }
          ],
          "histogram2d": [
           {
            "colorbar": {
             "outlinewidth": 0,
             "ticks": ""
            },
            "colorscale": [
             [
              0,
              "#0d0887"
             ],
             [
              0.1111111111111111,
              "#46039f"
             ],
             [
              0.2222222222222222,
              "#7201a8"
             ],
             [
              0.3333333333333333,
              "#9c179e"
             ],
             [
              0.4444444444444444,
              "#bd3786"
             ],
             [
              0.5555555555555556,
              "#d8576b"
             ],
             [
              0.6666666666666666,
              "#ed7953"
             ],
             [
              0.7777777777777778,
              "#fb9f3a"
             ],
             [
              0.8888888888888888,
              "#fdca26"
             ],
             [
              1,
              "#f0f921"
             ]
            ],
            "type": "histogram2d"
           }
          ],
          "histogram2dcontour": [
           {
            "colorbar": {
             "outlinewidth": 0,
             "ticks": ""
            },
            "colorscale": [
             [
              0,
              "#0d0887"
             ],
             [
              0.1111111111111111,
              "#46039f"
             ],
             [
              0.2222222222222222,
              "#7201a8"
             ],
             [
              0.3333333333333333,
              "#9c179e"
             ],
             [
              0.4444444444444444,
              "#bd3786"
             ],
             [
              0.5555555555555556,
              "#d8576b"
             ],
             [
              0.6666666666666666,
              "#ed7953"
             ],
             [
              0.7777777777777778,
              "#fb9f3a"
             ],
             [
              0.8888888888888888,
              "#fdca26"
             ],
             [
              1,
              "#f0f921"
             ]
            ],
            "type": "histogram2dcontour"
           }
          ],
          "mesh3d": [
           {
            "colorbar": {
             "outlinewidth": 0,
             "ticks": ""
            },
            "type": "mesh3d"
           }
          ],
          "parcoords": [
           {
            "line": {
             "colorbar": {
              "outlinewidth": 0,
              "ticks": ""
             }
            },
            "type": "parcoords"
           }
          ],
          "scatter": [
           {
            "marker": {
             "colorbar": {
              "outlinewidth": 0,
              "ticks": ""
             }
            },
            "type": "scatter"
           }
          ],
          "scatter3d": [
           {
            "line": {
             "colorbar": {
              "outlinewidth": 0,
              "ticks": ""
             }
            },
            "marker": {
             "colorbar": {
              "outlinewidth": 0,
              "ticks": ""
             }
            },
            "type": "scatter3d"
           }
          ],
          "scattercarpet": [
           {
            "marker": {
             "colorbar": {
              "outlinewidth": 0,
              "ticks": ""
             }
            },
            "type": "scattercarpet"
           }
          ],
          "scattergeo": [
           {
            "marker": {
             "colorbar": {
              "outlinewidth": 0,
              "ticks": ""
             }
            },
            "type": "scattergeo"
           }
          ],
          "scattergl": [
           {
            "marker": {
             "colorbar": {
              "outlinewidth": 0,
              "ticks": ""
             }
            },
            "type": "scattergl"
           }
          ],
          "scattermapbox": [
           {
            "marker": {
             "colorbar": {
              "outlinewidth": 0,
              "ticks": ""
             }
            },
            "type": "scattermapbox"
           }
          ],
          "scatterpolar": [
           {
            "marker": {
             "colorbar": {
              "outlinewidth": 0,
              "ticks": ""
             }
            },
            "type": "scatterpolar"
           }
          ],
          "scatterpolargl": [
           {
            "marker": {
             "colorbar": {
              "outlinewidth": 0,
              "ticks": ""
             }
            },
            "type": "scatterpolargl"
           }
          ],
          "scatterternary": [
           {
            "marker": {
             "colorbar": {
              "outlinewidth": 0,
              "ticks": ""
             }
            },
            "type": "scatterternary"
           }
          ],
          "surface": [
           {
            "colorbar": {
             "outlinewidth": 0,
             "ticks": ""
            },
            "colorscale": [
             [
              0,
              "#0d0887"
             ],
             [
              0.1111111111111111,
              "#46039f"
             ],
             [
              0.2222222222222222,
              "#7201a8"
             ],
             [
              0.3333333333333333,
              "#9c179e"
             ],
             [
              0.4444444444444444,
              "#bd3786"
             ],
             [
              0.5555555555555556,
              "#d8576b"
             ],
             [
              0.6666666666666666,
              "#ed7953"
             ],
             [
              0.7777777777777778,
              "#fb9f3a"
             ],
             [
              0.8888888888888888,
              "#fdca26"
             ],
             [
              1,
              "#f0f921"
             ]
            ],
            "type": "surface"
           }
          ],
          "table": [
           {
            "cells": {
             "fill": {
              "color": "#EBF0F8"
             },
             "line": {
              "color": "white"
             }
            },
            "header": {
             "fill": {
              "color": "#C8D4E3"
             },
             "line": {
              "color": "white"
             }
            },
            "type": "table"
           }
          ]
         },
         "layout": {
          "annotationdefaults": {
           "arrowcolor": "#2a3f5f",
           "arrowhead": 0,
           "arrowwidth": 1
          },
          "colorscale": {
           "diverging": [
            [
             0,
             "#8e0152"
            ],
            [
             0.1,
             "#c51b7d"
            ],
            [
             0.2,
             "#de77ae"
            ],
            [
             0.3,
             "#f1b6da"
            ],
            [
             0.4,
             "#fde0ef"
            ],
            [
             0.5,
             "#f7f7f7"
            ],
            [
             0.6,
             "#e6f5d0"
            ],
            [
             0.7,
             "#b8e186"
            ],
            [
             0.8,
             "#7fbc41"
            ],
            [
             0.9,
             "#4d9221"
            ],
            [
             1,
             "#276419"
            ]
           ],
           "sequential": [
            [
             0,
             "#0d0887"
            ],
            [
             0.1111111111111111,
             "#46039f"
            ],
            [
             0.2222222222222222,
             "#7201a8"
            ],
            [
             0.3333333333333333,
             "#9c179e"
            ],
            [
             0.4444444444444444,
             "#bd3786"
            ],
            [
             0.5555555555555556,
             "#d8576b"
            ],
            [
             0.6666666666666666,
             "#ed7953"
            ],
            [
             0.7777777777777778,
             "#fb9f3a"
            ],
            [
             0.8888888888888888,
             "#fdca26"
            ],
            [
             1,
             "#f0f921"
            ]
           ],
           "sequentialminus": [
            [
             0,
             "#0d0887"
            ],
            [
             0.1111111111111111,
             "#46039f"
            ],
            [
             0.2222222222222222,
             "#7201a8"
            ],
            [
             0.3333333333333333,
             "#9c179e"
            ],
            [
             0.4444444444444444,
             "#bd3786"
            ],
            [
             0.5555555555555556,
             "#d8576b"
            ],
            [
             0.6666666666666666,
             "#ed7953"
            ],
            [
             0.7777777777777778,
             "#fb9f3a"
            ],
            [
             0.8888888888888888,
             "#fdca26"
            ],
            [
             1,
             "#f0f921"
            ]
           ]
          },
          "colorway": [
           "#636efa",
           "#EF553B",
           "#00cc96",
           "#ab63fa",
           "#FFA15A",
           "#19d3f3",
           "#FF6692",
           "#B6E880",
           "#FF97FF",
           "#FECB52"
          ],
          "font": {
           "color": "#2a3f5f"
          },
          "geo": {
           "bgcolor": "white",
           "lakecolor": "white",
           "landcolor": "#E5ECF6",
           "showlakes": true,
           "showland": true,
           "subunitcolor": "white"
          },
          "hoverlabel": {
           "align": "left"
          },
          "hovermode": "closest",
          "mapbox": {
           "style": "light"
          },
          "paper_bgcolor": "white",
          "plot_bgcolor": "#E5ECF6",
          "polar": {
           "angularaxis": {
            "gridcolor": "white",
            "linecolor": "white",
            "ticks": ""
           },
           "bgcolor": "#E5ECF6",
           "radialaxis": {
            "gridcolor": "white",
            "linecolor": "white",
            "ticks": ""
           }
          },
          "scene": {
           "xaxis": {
            "backgroundcolor": "#E5ECF6",
            "gridcolor": "white",
            "gridwidth": 2,
            "linecolor": "white",
            "showbackground": true,
            "ticks": "",
            "zerolinecolor": "white"
           },
           "yaxis": {
            "backgroundcolor": "#E5ECF6",
            "gridcolor": "white",
            "gridwidth": 2,
            "linecolor": "white",
            "showbackground": true,
            "ticks": "",
            "zerolinecolor": "white"
           },
           "zaxis": {
            "backgroundcolor": "#E5ECF6",
            "gridcolor": "white",
            "gridwidth": 2,
            "linecolor": "white",
            "showbackground": true,
            "ticks": "",
            "zerolinecolor": "white"
           }
          },
          "shapedefaults": {
           "line": {
            "color": "#2a3f5f"
           }
          },
          "ternary": {
           "aaxis": {
            "gridcolor": "white",
            "linecolor": "white",
            "ticks": ""
           },
           "baxis": {
            "gridcolor": "white",
            "linecolor": "white",
            "ticks": ""
           },
           "bgcolor": "#E5ECF6",
           "caxis": {
            "gridcolor": "white",
            "linecolor": "white",
            "ticks": ""
           }
          },
          "title": {
           "x": 0.05
          },
          "xaxis": {
           "automargin": true,
           "gridcolor": "white",
           "linecolor": "white",
           "ticks": "",
           "zerolinecolor": "white",
           "zerolinewidth": 2
          },
          "yaxis": {
           "automargin": true,
           "gridcolor": "white",
           "linecolor": "white",
           "ticks": "",
           "zerolinecolor": "white",
           "zerolinewidth": 2
          }
         }
        },
        "xaxis": {
         "anchor": "y",
         "domain": [
          0,
          0.98
         ],
         "title": {
          "text": "data_pars"
         }
        },
        "yaxis": {
         "anchor": "x",
         "domain": [
          0,
          1
         ],
         "title": {
          "text": "tamponi"
         }
        }
       }
      },
      "text/html": [
       "<div>\n",
       "        \n",
       "        \n",
       "            <div id=\"c2bcc469-b9ab-4b56-9f65-515a354bfda4\" class=\"plotly-graph-div\" style=\"height:600px; width:100%;\"></div>\n",
       "            <script type=\"text/javascript\">\n",
       "                require([\"plotly\"], function(Plotly) {\n",
       "                    window.PLOTLYENV=window.PLOTLYENV || {};\n",
       "                    \n",
       "                if (document.getElementById(\"c2bcc469-b9ab-4b56-9f65-515a354bfda4\")) {\n",
       "                    Plotly.newPlot(\n",
       "                        'c2bcc469-b9ab-4b56-9f65-515a354bfda4',\n",
       "                        [{\"hoverlabel\": {\"namelength\": 0}, \"hovertemplate\": \"<b>%{hovertext}</b><br><br>denominazione_regione=Emilia Romagna<br>data_pars=%{x}<br>tamponi=%{y}<br>tamponi_positivi=%{marker.size}\", \"hovertext\": [18.0, 26.0, 47.0, 97.0, 145.0, 217.0, 285.0, 335.0, 420.0, 544.0, 698.0, 870.0], \"legendgroup\": \"denominazione_regione=Emilia Romagna\", \"marker\": {\"color\": \"#636efa\", \"size\": [8.2, 15.0, 12.3, 10.6, 8.8, 7.1, 6.3, 5.9, 4.8, 4.6, 4.1, 3.6], \"sizemode\": \"area\", \"sizeref\": 0.21975, \"symbol\": \"circle\"}, \"mode\": \"markers\", \"name\": \"denominazione_regione=Emilia Romagna\", \"showlegend\": true, \"type\": \"scatter\", \"x\": [\"2020-02-24T18:00:00\", \"2020-02-25T18:00:00\", \"2020-02-26T18:00:00\", \"2020-02-27T18:00:00\", \"2020-02-28T18:00:00\", \"2020-02-29T17:00:00\", \"2020-03-01T17:00:00\", \"2020-03-02T18:00:00\", \"2020-03-03T18:00:00\", \"2020-03-04T17:00:00\", \"2020-03-05T17:00:00\", \"2020-03-06T17:00:00\"], \"xaxis\": \"x\", \"y\": [148, 391, 577, 1033, 1277, 1550, 1795, 1973, 2012, 2500, 2884, 3136], \"yaxis\": \"y\"}, {\"hoverlabel\": {\"namelength\": 0}, \"hovertemplate\": \"<b>%{hovertext}</b><br><br>denominazione_regione=Lombardia<br>data_pars=%{x}<br>tamponi=%{y}<br>tamponi_positivi=%{marker.size}\", \"hovertext\": [172.0, 240.0, 258.0, 403.0, 531.0, 615.0, 984.0, 1254.0, 1520.0, 1820.0, 2251.0, 2612.0], \"legendgroup\": \"denominazione_regione=Lombardia\", \"marker\": {\"color\": \"#EF553B\", \"size\": [8.5, 15.4, 12.4, 8.2, 9.1, 9.3, 7.0, 6.3, 6.3, 6.7, 5.5, 5.2], \"sizemode\": \"area\", \"sizeref\": 0.21975, \"symbol\": \"circle\"}, \"mode\": \"markers\", \"name\": \"denominazione_regione=Lombardia\", \"showlegend\": true, \"type\": \"scatter\", \"x\": [\"2020-02-24T18:00:00\", \"2020-02-25T18:00:00\", \"2020-02-26T18:00:00\", \"2020-02-27T18:00:00\", \"2020-02-28T18:00:00\", \"2020-02-29T17:00:00\", \"2020-03-01T17:00:00\", \"2020-03-02T18:00:00\", \"2020-03-03T18:00:00\", \"2020-03-04T17:00:00\", \"2020-03-05T17:00:00\", \"2020-03-06T17:00:00\"], \"xaxis\": \"x\", \"y\": [1463, 3700, 3208, 3320, 4835, 5723, 6879, 7925, 9577, 12138, 12354, 13556], \"yaxis\": \"y\"}, {\"hoverlabel\": {\"namelength\": 0}, \"hovertemplate\": \"<b>%{hovertext}</b><br><br>denominazione_regione=Veneto<br>data_pars=%{x}<br>tamponi=%{y}<br>tamponi_positivi=%{marker.size}\", \"hovertext\": [33.0, 43.0, 71.0, 111.0, 151.0, 191.0, 263.0, 273.0, 307.0, 360.0, 407.0, 488.0], \"legendgroup\": \"denominazione_regione=Veneto\", \"marker\": {\"color\": \"#00cc96\", \"size\": [66.7, 87.9, 69.0, 55.5, 49.1, 45.3, 34.4, 35.8, 33.1, 29.2, 29.4, 26.7], \"sizemode\": \"area\", \"sizeref\": 0.21975, \"symbol\": \"circle\"}, \"mode\": \"markers\", \"name\": \"denominazione_regione=Veneto\", \"showlegend\": true, \"type\": \"scatter\", \"x\": [\"2020-02-24T18:00:00\", \"2020-02-25T18:00:00\", \"2020-02-26T18:00:00\", \"2020-02-27T18:00:00\", \"2020-02-28T18:00:00\", \"2020-02-29T17:00:00\", \"2020-03-01T17:00:00\", \"2020-03-02T18:00:00\", \"2020-03-03T18:00:00\", \"2020-03-04T17:00:00\", \"2020-03-05T17:00:00\", \"2020-03-06T17:00:00\"], \"xaxis\": \"x\", \"y\": [2200, 3780, 4900, 6164, 7414, 8659, 9056, 9782, 10176, 10515, 11949, 13023], \"yaxis\": \"y\"}],\n",
       "                        {\"height\": 600, \"legend\": {\"itemsizing\": \"constant\", \"tracegroupgap\": 0}, \"margin\": {\"t\": 60}, \"template\": {\"data\": {\"bar\": [{\"error_x\": {\"color\": \"#2a3f5f\"}, \"error_y\": {\"color\": \"#2a3f5f\"}, \"marker\": {\"line\": {\"color\": \"#E5ECF6\", \"width\": 0.5}}, \"type\": \"bar\"}], \"barpolar\": [{\"marker\": {\"line\": {\"color\": \"#E5ECF6\", \"width\": 0.5}}, \"type\": \"barpolar\"}], \"carpet\": [{\"aaxis\": {\"endlinecolor\": \"#2a3f5f\", \"gridcolor\": \"white\", \"linecolor\": \"white\", \"minorgridcolor\": \"white\", \"startlinecolor\": \"#2a3f5f\"}, \"baxis\": {\"endlinecolor\": \"#2a3f5f\", \"gridcolor\": \"white\", \"linecolor\": \"white\", \"minorgridcolor\": \"white\", \"startlinecolor\": \"#2a3f5f\"}, \"type\": \"carpet\"}], \"choropleth\": [{\"colorbar\": {\"outlinewidth\": 0, \"ticks\": \"\"}, \"type\": \"choropleth\"}], \"contour\": [{\"colorbar\": {\"outlinewidth\": 0, \"ticks\": \"\"}, \"colorscale\": [[0.0, \"#0d0887\"], [0.1111111111111111, \"#46039f\"], [0.2222222222222222, \"#7201a8\"], [0.3333333333333333, \"#9c179e\"], [0.4444444444444444, \"#bd3786\"], [0.5555555555555556, \"#d8576b\"], [0.6666666666666666, \"#ed7953\"], [0.7777777777777778, \"#fb9f3a\"], [0.8888888888888888, \"#fdca26\"], [1.0, \"#f0f921\"]], \"type\": \"contour\"}], \"contourcarpet\": [{\"colorbar\": {\"outlinewidth\": 0, \"ticks\": \"\"}, \"type\": \"contourcarpet\"}], \"heatmap\": [{\"colorbar\": {\"outlinewidth\": 0, \"ticks\": \"\"}, \"colorscale\": [[0.0, \"#0d0887\"], [0.1111111111111111, \"#46039f\"], [0.2222222222222222, \"#7201a8\"], [0.3333333333333333, \"#9c179e\"], [0.4444444444444444, \"#bd3786\"], [0.5555555555555556, \"#d8576b\"], [0.6666666666666666, \"#ed7953\"], [0.7777777777777778, \"#fb9f3a\"], [0.8888888888888888, \"#fdca26\"], [1.0, \"#f0f921\"]], \"type\": \"heatmap\"}], \"heatmapgl\": [{\"colorbar\": {\"outlinewidth\": 0, \"ticks\": \"\"}, \"colorscale\": [[0.0, \"#0d0887\"], [0.1111111111111111, \"#46039f\"], [0.2222222222222222, \"#7201a8\"], [0.3333333333333333, \"#9c179e\"], [0.4444444444444444, \"#bd3786\"], [0.5555555555555556, \"#d8576b\"], [0.6666666666666666, \"#ed7953\"], [0.7777777777777778, \"#fb9f3a\"], [0.8888888888888888, \"#fdca26\"], [1.0, \"#f0f921\"]], \"type\": \"heatmapgl\"}], \"histogram\": [{\"marker\": {\"colorbar\": {\"outlinewidth\": 0, \"ticks\": \"\"}}, \"type\": \"histogram\"}], \"histogram2d\": [{\"colorbar\": {\"outlinewidth\": 0, \"ticks\": \"\"}, \"colorscale\": [[0.0, \"#0d0887\"], [0.1111111111111111, \"#46039f\"], [0.2222222222222222, \"#7201a8\"], [0.3333333333333333, \"#9c179e\"], [0.4444444444444444, \"#bd3786\"], [0.5555555555555556, \"#d8576b\"], [0.6666666666666666, \"#ed7953\"], [0.7777777777777778, \"#fb9f3a\"], [0.8888888888888888, \"#fdca26\"], [1.0, \"#f0f921\"]], \"type\": \"histogram2d\"}], \"histogram2dcontour\": [{\"colorbar\": {\"outlinewidth\": 0, \"ticks\": \"\"}, \"colorscale\": [[0.0, \"#0d0887\"], [0.1111111111111111, \"#46039f\"], [0.2222222222222222, \"#7201a8\"], [0.3333333333333333, \"#9c179e\"], [0.4444444444444444, \"#bd3786\"], [0.5555555555555556, \"#d8576b\"], [0.6666666666666666, \"#ed7953\"], [0.7777777777777778, \"#fb9f3a\"], [0.8888888888888888, \"#fdca26\"], [1.0, \"#f0f921\"]], \"type\": \"histogram2dcontour\"}], \"mesh3d\": [{\"colorbar\": {\"outlinewidth\": 0, \"ticks\": \"\"}, \"type\": \"mesh3d\"}], \"parcoords\": [{\"line\": {\"colorbar\": {\"outlinewidth\": 0, \"ticks\": \"\"}}, \"type\": \"parcoords\"}], \"scatter\": [{\"marker\": {\"colorbar\": {\"outlinewidth\": 0, \"ticks\": \"\"}}, \"type\": \"scatter\"}], \"scatter3d\": [{\"line\": {\"colorbar\": {\"outlinewidth\": 0, \"ticks\": \"\"}}, \"marker\": {\"colorbar\": {\"outlinewidth\": 0, \"ticks\": \"\"}}, \"type\": \"scatter3d\"}], \"scattercarpet\": [{\"marker\": {\"colorbar\": {\"outlinewidth\": 0, \"ticks\": \"\"}}, \"type\": \"scattercarpet\"}], \"scattergeo\": [{\"marker\": {\"colorbar\": {\"outlinewidth\": 0, \"ticks\": \"\"}}, \"type\": \"scattergeo\"}], \"scattergl\": [{\"marker\": {\"colorbar\": {\"outlinewidth\": 0, \"ticks\": \"\"}}, \"type\": \"scattergl\"}], \"scattermapbox\": [{\"marker\": {\"colorbar\": {\"outlinewidth\": 0, \"ticks\": \"\"}}, \"type\": \"scattermapbox\"}], \"scatterpolar\": [{\"marker\": {\"colorbar\": {\"outlinewidth\": 0, \"ticks\": \"\"}}, \"type\": \"scatterpolar\"}], \"scatterpolargl\": [{\"marker\": {\"colorbar\": {\"outlinewidth\": 0, \"ticks\": \"\"}}, \"type\": \"scatterpolargl\"}], \"scatterternary\": [{\"marker\": {\"colorbar\": {\"outlinewidth\": 0, \"ticks\": \"\"}}, \"type\": \"scatterternary\"}], \"surface\": [{\"colorbar\": {\"outlinewidth\": 0, \"ticks\": \"\"}, \"colorscale\": [[0.0, \"#0d0887\"], [0.1111111111111111, \"#46039f\"], [0.2222222222222222, \"#7201a8\"], [0.3333333333333333, \"#9c179e\"], [0.4444444444444444, \"#bd3786\"], [0.5555555555555556, \"#d8576b\"], [0.6666666666666666, \"#ed7953\"], [0.7777777777777778, \"#fb9f3a\"], [0.8888888888888888, \"#fdca26\"], [1.0, \"#f0f921\"]], \"type\": \"surface\"}], \"table\": [{\"cells\": {\"fill\": {\"color\": \"#EBF0F8\"}, \"line\": {\"color\": \"white\"}}, \"header\": {\"fill\": {\"color\": \"#C8D4E3\"}, \"line\": {\"color\": \"white\"}}, \"type\": \"table\"}]}, \"layout\": {\"annotationdefaults\": {\"arrowcolor\": \"#2a3f5f\", \"arrowhead\": 0, \"arrowwidth\": 1}, \"colorscale\": {\"diverging\": [[0, \"#8e0152\"], [0.1, \"#c51b7d\"], [0.2, \"#de77ae\"], [0.3, \"#f1b6da\"], [0.4, \"#fde0ef\"], [0.5, \"#f7f7f7\"], [0.6, \"#e6f5d0\"], [0.7, \"#b8e186\"], [0.8, \"#7fbc41\"], [0.9, \"#4d9221\"], [1, \"#276419\"]], \"sequential\": [[0.0, \"#0d0887\"], [0.1111111111111111, \"#46039f\"], [0.2222222222222222, \"#7201a8\"], [0.3333333333333333, \"#9c179e\"], [0.4444444444444444, \"#bd3786\"], [0.5555555555555556, \"#d8576b\"], [0.6666666666666666, \"#ed7953\"], [0.7777777777777778, \"#fb9f3a\"], [0.8888888888888888, \"#fdca26\"], [1.0, \"#f0f921\"]], \"sequentialminus\": [[0.0, \"#0d0887\"], [0.1111111111111111, \"#46039f\"], [0.2222222222222222, \"#7201a8\"], [0.3333333333333333, \"#9c179e\"], [0.4444444444444444, \"#bd3786\"], [0.5555555555555556, \"#d8576b\"], [0.6666666666666666, \"#ed7953\"], [0.7777777777777778, \"#fb9f3a\"], [0.8888888888888888, \"#fdca26\"], [1.0, \"#f0f921\"]]}, \"colorway\": [\"#636efa\", \"#EF553B\", \"#00cc96\", \"#ab63fa\", \"#FFA15A\", \"#19d3f3\", \"#FF6692\", \"#B6E880\", \"#FF97FF\", \"#FECB52\"], \"font\": {\"color\": \"#2a3f5f\"}, \"geo\": {\"bgcolor\": \"white\", \"lakecolor\": \"white\", \"landcolor\": \"#E5ECF6\", \"showlakes\": true, \"showland\": true, \"subunitcolor\": \"white\"}, \"hoverlabel\": {\"align\": \"left\"}, \"hovermode\": \"closest\", \"mapbox\": {\"style\": \"light\"}, \"paper_bgcolor\": \"white\", \"plot_bgcolor\": \"#E5ECF6\", \"polar\": {\"angularaxis\": {\"gridcolor\": \"white\", \"linecolor\": \"white\", \"ticks\": \"\"}, \"bgcolor\": \"#E5ECF6\", \"radialaxis\": {\"gridcolor\": \"white\", \"linecolor\": \"white\", \"ticks\": \"\"}}, \"scene\": {\"xaxis\": {\"backgroundcolor\": \"#E5ECF6\", \"gridcolor\": \"white\", \"gridwidth\": 2, \"linecolor\": \"white\", \"showbackground\": true, \"ticks\": \"\", \"zerolinecolor\": \"white\"}, \"yaxis\": {\"backgroundcolor\": \"#E5ECF6\", \"gridcolor\": \"white\", \"gridwidth\": 2, \"linecolor\": \"white\", \"showbackground\": true, \"ticks\": \"\", \"zerolinecolor\": \"white\"}, \"zaxis\": {\"backgroundcolor\": \"#E5ECF6\", \"gridcolor\": \"white\", \"gridwidth\": 2, \"linecolor\": \"white\", \"showbackground\": true, \"ticks\": \"\", \"zerolinecolor\": \"white\"}}, \"shapedefaults\": {\"line\": {\"color\": \"#2a3f5f\"}}, \"ternary\": {\"aaxis\": {\"gridcolor\": \"white\", \"linecolor\": \"white\", \"ticks\": \"\"}, \"baxis\": {\"gridcolor\": \"white\", \"linecolor\": \"white\", \"ticks\": \"\"}, \"bgcolor\": \"#E5ECF6\", \"caxis\": {\"gridcolor\": \"white\", \"linecolor\": \"white\", \"ticks\": \"\"}}, \"title\": {\"x\": 0.05}, \"xaxis\": {\"automargin\": true, \"gridcolor\": \"white\", \"linecolor\": \"white\", \"ticks\": \"\", \"zerolinecolor\": \"white\", \"zerolinewidth\": 2}, \"yaxis\": {\"automargin\": true, \"gridcolor\": \"white\", \"linecolor\": \"white\", \"ticks\": \"\", \"zerolinecolor\": \"white\", \"zerolinewidth\": 2}}}, \"xaxis\": {\"anchor\": \"y\", \"domain\": [0.0, 0.98], \"title\": {\"text\": \"data_pars\"}}, \"yaxis\": {\"anchor\": \"x\", \"domain\": [0.0, 1.0], \"title\": {\"text\": \"tamponi\"}}},\n",
       "                        {\"responsive\": true}\n",
       "                    ).then(function(){\n",
       "                            \n",
       "var gd = document.getElementById('c2bcc469-b9ab-4b56-9f65-515a354bfda4');\n",
       "var x = new MutationObserver(function (mutations, observer) {{\n",
       "        var display = window.getComputedStyle(gd).display;\n",
       "        if (!display || display === 'none') {{\n",
       "            console.log([gd, 'removed!']);\n",
       "            Plotly.purge(gd);\n",
       "            observer.disconnect();\n",
       "        }}\n",
       "}});\n",
       "\n",
       "// Listen for the removal of the full notebook cells\n",
       "var notebookContainer = gd.closest('#notebook-container');\n",
       "if (notebookContainer) {{\n",
       "    x.observe(notebookContainer, {childList: true});\n",
       "}}\n",
       "\n",
       "// Listen for the clearing of the current output cell\n",
       "var outputEl = gd.closest('.output');\n",
       "if (outputEl) {{\n",
       "    x.observe(outputEl, {childList: true});\n",
       "}}\n",
       "\n",
       "                        })\n",
       "                };\n",
       "                });\n",
       "            </script>\n",
       "        </div>"
      ]
     },
     "metadata": {},
     "output_type": "display_data"
    }
   ],
   "source": [
    "## PLOTLY INTERACTIVE\n",
    "### to see it click on theta symbol next to first chunk\n",
    "fig = px.scatter(df, x=\"data_pars\", y=\"tamponi\", color=\"denominazione_regione\",\n",
    "                 hover_name=\"totale_casi\",\n",
    "              size=\"tamponi_positivi\")\n",
    "\n",
    "fig.show()"
   ]
  },
  {
   "cell_type": "markdown",
   "metadata": {},
   "source": [
    "### Terapia Intensiva"
   ]
  },
  {
   "cell_type": "code",
   "execution_count": 27,
   "metadata": {},
   "outputs": [
    {
     "data": {
      "text/plain": [
       "<matplotlib.legend.Legend at 0x1204b9e50>"
      ]
     },
     "execution_count": 27,
     "metadata": {},
     "output_type": "execute_result"
    },
    {
     "data": {
      "image/png": "[encoded data removed]",
      "text/plain": [
       "<Figure size 432x288 with 1 Axes>"
      ]
     },
     "metadata": {
      "needs_background": "light"
     },
     "output_type": "display_data"
    }
   ],
   "source": [
    "sns.scatterplot(x=\"data\", y=\"terapia_intensiva\",\n",
    "                     hue=\"denominazione_regione\", size=\"tamponi_positivi\",legend = \"brief\",\n",
    "                     data=dfreg)\n",
    "plt.legend(bbox_to_anchor=(1.05, 1), loc=2, borderaxespad=0.)"
   ]
  },
  {
   "cell_type": "code",
   "execution_count": 28,
   "metadata": {},
   "outputs": [
    {
     "data": {
      "application/vnd.plotly.v1+json": {
       "config": {
        "plotlyServerURL": "https://plot.ly"
       },
       "data": [
        {
         "hoverlabel": {
          "namelength": 0
         },
         "hovertemplate": "<b>%{hovertext}</b><br><br>denominazione_regione=Abruzzo<br>data_pars=%{x}<br>terapia_intensiva=%{y}",
         "hovertext": [
          0,
          0,
          0,
          1,
          1,
          2,
          5,
          5,
          6,
          7,
          8,
          9
         ],
         "legendgroup": "denominazione_regione=Abruzzo",
         "marker": {
          "color": "#636efa",
          "symbol": "circle"
         },
         "mode": "markers",
         "name": "denominazione_regione=Abruzzo",
         "showlegend": true,
         "type": "scatter",
         "x": [
          "2020-02-24T18:00:00",
          "2020-02-25T18:00:00",
          "2020-02-26T18:00:00",
          "2020-02-27T18:00:00",
          "2020-02-28T18:00:00",
          "2020-02-29T17:00:00",
          "2020-03-01T17:00:00",
          "2020-03-02T18:00:00",
          "2020-03-03T18:00:00",
          "2020-03-04T17:00:00",
          "2020-03-05T17:00:00",
          "2020-03-06T17:00:00"
         ],
         "xaxis": "x",
         "y": [
          0,
          0,
          0,
          0,
          0,
          0,
          0,
          0,
          0,
          0,
          0,
          0
         ],
         "yaxis": "y"
        },
        {
         "hoverlabel": {
          "namelength": 0
         },
         "hovertemplate": "<b>%{hovertext}</b><br><br>denominazione_regione=Basilicata<br>data_pars=%{x}<br>terapia_intensiva=%{y}",
         "hovertext": [
          0,
          0,
          0,
          0,
          0,
          0,
          0,
          0,
          1,
          1,
          1,
          3
         ],
         "legendgroup": "denominazione_regione=Basilicata",
         "marker": {
          "color": "#EF553B",
          "symbol": "circle"
         },
         "mode": "markers",
         "name": "denominazione_regione=Basilicata",
         "showlegend": true,
         "type": "scatter",
         "x": [
          "2020-02-24T18:00:00",
          "2020-02-25T18:00:00",
          "2020-02-26T18:00:00",
          "2020-02-27T18:00:00",
          "2020-02-28T18:00:00",
          "2020-02-29T17:00:00",
          "2020-03-01T17:00:00",
          "2020-03-02T18:00:00",
          "2020-03-03T18:00:00",
          "2020-03-04T17:00:00",
          "2020-03-05T17:00:00",
          "2020-03-06T17:00:00"
         ],
         "xaxis": "x",
         "y": [
          0,
          0,
          0,
          0,
          0,
          0,
          0,
          0,
          0,
          0,
          0,
          0
         ],
         "yaxis": "y"
        },
        {
         "hoverlabel": {
          "namelength": 0
         },
         "hovertemplate": "<b>%{hovertext}</b><br><br>denominazione_regione=Bolzano<br>data_pars=%{x}<br>terapia_intensiva=%{y}",
         "hovertext": [
          0,
          1,
          1,
          1,
          1,
          1,
          1,
          1,
          1,
          1,
          1,
          4
         ],
         "legendgroup": "denominazione_regione=Bolzano",
         "marker": {
          "color": "#00cc96",
          "symbol": "circle"
         },
         "mode": "markers",
         "name": "denominazione_regione=Bolzano",
         "showlegend": true,
         "type": "scatter",
         "x": [
          "2020-02-24T18:00:00",
          "2020-02-25T18:00:00",
          "2020-02-26T18:00:00",
          "2020-02-27T18:00:00",
          "2020-02-28T18:00:00",
          "2020-02-29T17:00:00",
          "2020-03-01T17:00:00",
          "2020-03-02T18:00:00",
          "2020-03-03T18:00:00",
          "2020-03-04T17:00:00",
          "2020-03-05T17:00:00",
          "2020-03-06T17:00:00"
         ],
         "xaxis": "x",
         "y": [
          0,
          0,
          0,
          0,
          0,
          0,
          0,
          0,
          0,
          0,
          0,
          0
         ],
         "yaxis": "y"
        },
        {
         "hoverlabel": {
          "namelength": 0
         },
         "hovertemplate": "<b>%{hovertext}</b><br><br>denominazione_regione=Calabria<br>data_pars=%{x}<br>terapia_intensiva=%{y}",
         "hovertext": [
          0,
          0,
          0,
          0,
          1,
          1,
          1,
          1,
          1,
          1,
          2,
          4
         ],
         "legendgroup": "denominazione_regione=Calabria",
         "marker": {
          "color": "#ab63fa",
          "symbol": "circle"
         },
         "mode": "markers",
         "name": "denominazione_regione=Calabria",
         "showlegend": true,
         "type": "scatter",
         "x": [
          "2020-02-24T18:00:00",
          "2020-02-25T18:00:00",
          "2020-02-26T18:00:00",
          "2020-02-27T18:00:00",
          "2020-02-28T18:00:00",
          "2020-02-29T17:00:00",
          "2020-03-01T17:00:00",
          "2020-03-02T18:00:00",
          "2020-03-03T18:00:00",
          "2020-03-04T17:00:00",
          "2020-03-05T17:00:00",
          "2020-03-06T17:00:00"
         ],
         "xaxis": "x",
         "y": [
          0,
          0,
          0,
          0,
          0,
          0,
          0,
          0,
          0,
          0,
          0,
          0
         ],
         "yaxis": "y"
        },
        {
         "hoverlabel": {
          "namelength": 0
         },
         "hovertemplate": "<b>%{hovertext}</b><br><br>denominazione_regione=Campania<br>data_pars=%{x}<br>terapia_intensiva=%{y}",
         "hovertext": [
          0,
          0,
          0,
          3,
          4,
          13,
          17,
          17,
          30,
          31,
          45,
          57
         ],
         "legendgroup": "denominazione_regione=Campania",
         "marker": {
          "color": "#FFA15A",
          "symbol": "circle"
         },
         "mode": "markers",
         "name": "denominazione_regione=Campania",
         "showlegend": true,
         "type": "scatter",
         "x": [
          "2020-02-24T18:00:00",
          "2020-02-25T18:00:00",
          "2020-02-26T18:00:00",
          "2020-02-27T18:00:00",
          "2020-02-28T18:00:00",
          "2020-02-29T17:00:00",
          "2020-03-01T17:00:00",
          "2020-03-02T18:00:00",
          "2020-03-03T18:00:00",
          "2020-03-04T17:00:00",
          "2020-03-05T17:00:00",
          "2020-03-06T17:00:00"
         ],
         "xaxis": "x",
         "y": [
          0,
          0,
          0,
          0,
          0,
          0,
          0,
          0,
          0,
          0,
          0,
          0
         ],
         "yaxis": "y"
        },
        {
         "hoverlabel": {
          "namelength": 0
         },
         "hovertemplate": "<b>%{hovertext}</b><br><br>denominazione_regione=Emilia Romagna<br>data_pars=%{x}<br>terapia_intensiva=%{y}",
         "hovertext": [
          18,
          26,
          47,
          97,
          145,
          217,
          285,
          335,
          420,
          544,
          698,
          870
         ],
         "legendgroup": "denominazione_regione=Emilia Romagna",
         "marker": {
          "color": "#19d3f3",
          "symbol": "circle"
         },
         "mode": "markers",
         "name": "denominazione_regione=Emilia Romagna",
         "showlegend": true,
         "type": "scatter",
         "x": [
          "2020-02-24T18:00:00",
          "2020-02-25T18:00:00",
          "2020-02-26T18:00:00",
          "2020-02-27T18:00:00",
          "2020-02-28T18:00:00",
          "2020-02-29T17:00:00",
          "2020-03-01T17:00:00",
          "2020-03-02T18:00:00",
          "2020-03-03T18:00:00",
          "2020-03-04T17:00:00",
          "2020-03-05T17:00:00",
          "2020-03-06T17:00:00"
         ],
         "xaxis": "x",
         "y": [
          2,
          2,
          3,
          6,
          6,
          11,
          13,
          16,
          24,
          26,
          32,
          53
         ],
         "yaxis": "y"
        },
        {
         "hoverlabel": {
          "namelength": 0
         },
         "hovertemplate": "<b>%{hovertext}</b><br><br>denominazione_regione=Friuli Venezia Giulia<br>data_pars=%{x}<br>terapia_intensiva=%{y}",
         "hovertext": [
          0,
          0,
          0,
          0,
          0,
          0,
          6,
          9,
          13,
          18,
          21,
          31
         ],
         "legendgroup": "denominazione_regione=Friuli Venezia Giulia",
         "marker": {
          "color": "#FF6692",
          "symbol": "circle"
         },
         "mode": "markers",
         "name": "denominazione_regione=Friuli Venezia Giulia",
         "showlegend": true,
         "type": "scatter",
         "x": [
          "2020-02-24T18:00:00",
          "2020-02-25T18:00:00",
          "2020-02-26T18:00:00",
          "2020-02-27T18:00:00",
          "2020-02-28T18:00:00",
          "2020-02-29T17:00:00",
          "2020-03-01T17:00:00",
          "2020-03-02T18:00:00",
          "2020-03-03T18:00:00",
          "2020-03-04T17:00:00",
          "2020-03-05T17:00:00",
          "2020-03-06T17:00:00"
         ],
         "xaxis": "x",
         "y": [
          0,
          0,
          0,
          0,
          0,
          0,
          0,
          0,
          0,
          0,
          0,
          0
         ],
         "yaxis": "y"
        },
        {
         "hoverlabel": {
          "namelength": 0
         },
         "hovertemplate": "<b>%{hovertext}</b><br><br>denominazione_regione=Lazio<br>data_pars=%{x}<br>terapia_intensiva=%{y}",
         "hovertext": [
          3,
          3,
          3,
          3,
          3,
          6,
          6,
          7,
          14,
          30,
          44,
          54
         ],
         "legendgroup": "denominazione_regione=Lazio",
         "marker": {
          "color": "#B6E880",
          "symbol": "circle"
         },
         "mode": "markers",
         "name": "denominazione_regione=Lazio",
         "showlegend": true,
         "type": "scatter",
         "x": [
          "2020-02-24T18:00:00",
          "2020-02-25T18:00:00",
          "2020-02-26T18:00:00",
          "2020-02-27T18:00:00",
          "2020-02-28T18:00:00",
          "2020-02-29T17:00:00",
          "2020-03-01T17:00:00",
          "2020-03-02T18:00:00",
          "2020-03-03T18:00:00",
          "2020-03-04T17:00:00",
          "2020-03-05T17:00:00",
          "2020-03-06T17:00:00"
         ],
         "xaxis": "x",
         "y": [
          1,
          1,
          0,
          0,
          0,
          0,
          0,
          0,
          0,
          3,
          7,
          8
         ],
         "yaxis": "y"
        },
        {
         "hoverlabel": {
          "namelength": 0
         },
         "hovertemplate": "<b>%{hovertext}</b><br><br>denominazione_regione=Liguria<br>data_pars=%{x}<br>terapia_intensiva=%{y}",
         "hovertext": [
          0,
          1,
          11,
          19,
          19,
          42,
          25,
          22,
          24,
          26,
          28,
          32
         ],
         "legendgroup": "denominazione_regione=Liguria",
         "marker": {
          "color": "#FF97FF",
          "symbol": "circle"
         },
         "mode": "markers",
         "name": "denominazione_regione=Liguria",
         "showlegend": true,
         "type": "scatter",
         "x": [
          "2020-02-24T18:00:00",
          "2020-02-25T18:00:00",
          "2020-02-26T18:00:00",
          "2020-02-27T18:00:00",
          "2020-02-28T18:00:00",
          "2020-02-29T17:00:00",
          "2020-03-01T17:00:00",
          "2020-03-02T18:00:00",
          "2020-03-03T18:00:00",
          "2020-03-04T17:00:00",
          "2020-03-05T17:00:00",
          "2020-03-06T17:00:00"
         ],
         "xaxis": "x",
         "y": [
          0,
          0,
          0,
          0,
          0,
          1,
          1,
          1,
          2,
          3,
          3,
          5
         ],
         "yaxis": "y"
        },
        {
         "hoverlabel": {
          "namelength": 0
         },
         "hovertemplate": "<b>%{hovertext}</b><br><br>denominazione_regione=Lombardia<br>data_pars=%{x}<br>terapia_intensiva=%{y}",
         "hovertext": [
          172,
          240,
          258,
          403,
          531,
          615,
          984,
          1254,
          1520,
          1820,
          2251,
          2612
         ],
         "legendgroup": "denominazione_regione=Lombardia",
         "marker": {
          "color": "#FECB52",
          "symbol": "circle"
         },
         "mode": "markers",
         "name": "denominazione_regione=Lombardia",
         "showlegend": true,
         "type": "scatter",
         "x": [
          "2020-02-24T18:00:00",
          "2020-02-25T18:00:00",
          "2020-02-26T18:00:00",
          "2020-02-27T18:00:00",
          "2020-02-28T18:00:00",
          "2020-02-29T17:00:00",
          "2020-03-01T17:00:00",
          "2020-03-02T18:00:00",
          "2020-03-03T18:00:00",
          "2020-03-04T17:00:00",
          "2020-03-05T17:00:00",
          "2020-03-06T17:00:00"
         ],
         "xaxis": "x",
         "y": [
          19,
          25,
          25,
          41,
          47,
          80,
          106,
          127,
          167,
          209,
          244,
          309
         ],
         "yaxis": "y"
        },
        {
         "hoverlabel": {
          "namelength": 0
         },
         "hovertemplate": "<b>%{hovertext}</b><br><br>denominazione_regione=Marche<br>data_pars=%{x}<br>terapia_intensiva=%{y}",
         "hovertext": [
          0,
          0,
          1,
          3,
          6,
          11,
          25,
          35,
          61,
          84,
          124,
          159
         ],
         "legendgroup": "denominazione_regione=Marche",
         "marker": {
          "color": "#636efa",
          "symbol": "circle"
         },
         "mode": "markers",
         "name": "denominazione_regione=Marche",
         "showlegend": true,
         "type": "scatter",
         "x": [
          "2020-02-24T18:00:00",
          "2020-02-25T18:00:00",
          "2020-02-26T18:00:00",
          "2020-02-27T18:00:00",
          "2020-02-28T18:00:00",
          "2020-02-29T17:00:00",
          "2020-03-01T17:00:00",
          "2020-03-02T18:00:00",
          "2020-03-03T18:00:00",
          "2020-03-04T17:00:00",
          "2020-03-05T17:00:00",
          "2020-03-06T17:00:00"
         ],
         "xaxis": "x",
         "y": [
          0,
          0,
          0,
          1,
          2,
          2,
          5,
          6,
          13,
          15,
          19,
          20
         ],
         "yaxis": "y"
        },
        {
         "hoverlabel": {
          "namelength": 0
         },
         "hovertemplate": "<b>%{hovertext}</b><br><br>denominazione_regione=Molise<br>data_pars=%{x}<br>terapia_intensiva=%{y}",
         "hovertext": [
          0,
          0,
          0,
          0,
          0,
          0,
          0,
          0,
          3,
          3,
          7,
          12
         ],
         "legendgroup": "denominazione_regione=Molise",
         "marker": {
          "color": "#EF553B",
          "symbol": "circle"
         },
         "mode": "markers",
         "name": "denominazione_regione=Molise",
         "showlegend": true,
         "type": "scatter",
         "x": [
          "2020-02-24T18:00:00",
          "2020-02-25T18:00:00",
          "2020-02-26T18:00:00",
          "2020-02-27T18:00:00",
          "2020-02-28T18:00:00",
          "2020-02-29T17:00:00",
          "2020-03-01T17:00:00",
          "2020-03-02T18:00:00",
          "2020-03-03T18:00:00",
          "2020-03-04T17:00:00",
          "2020-03-05T17:00:00",
          "2020-03-06T17:00:00"
         ],
         "xaxis": "x",
         "y": [
          0,
          0,
          0,
          0,
          0,
          0,
          0,
          0,
          0,
          0,
          0,
          2
         ],
         "yaxis": "y"
        },
        {
         "hoverlabel": {
          "namelength": 0
         },
         "hovertemplate": "<b>%{hovertext}</b><br><br>denominazione_regione=Piemonte<br>data_pars=%{x}<br>terapia_intensiva=%{y}",
         "hovertext": [
          3,
          3,
          3,
          2,
          11,
          11,
          49,
          51,
          56,
          82,
          108,
          143
         ],
         "legendgroup": "denominazione_regione=Piemonte",
         "marker": {
          "color": "#00cc96",
          "symbol": "circle"
         },
         "mode": "markers",
         "name": "denominazione_regione=Piemonte",
         "showlegend": true,
         "type": "scatter",
         "x": [
          "2020-02-24T18:00:00",
          "2020-02-25T18:00:00",
          "2020-02-26T18:00:00",
          "2020-02-27T18:00:00",
          "2020-02-28T18:00:00",
          "2020-02-29T17:00:00",
          "2020-03-01T17:00:00",
          "2020-03-02T18:00:00",
          "2020-03-03T18:00:00",
          "2020-03-04T17:00:00",
          "2020-03-05T17:00:00",
          "2020-03-06T17:00:00"
         ],
         "xaxis": "x",
         "y": [
          0,
          0,
          0,
          0,
          0,
          0,
          2,
          2,
          3,
          13,
          17,
          30
         ],
         "yaxis": "y"
        },
        {
         "hoverlabel": {
          "namelength": 0
         },
         "hovertemplate": "<b>%{hovertext}</b><br><br>denominazione_regione=Puglia<br>data_pars=%{x}<br>terapia_intensiva=%{y}",
         "hovertext": [
          0,
          0,
          0,
          1,
          3,
          3,
          3,
          4,
          6,
          9,
          14,
          17
         ],
         "legendgroup": "denominazione_regione=Puglia",
         "marker": {
          "color": "#ab63fa",
          "symbol": "circle"
         },
         "mode": "markers",
         "name": "denominazione_regione=Puglia",
         "showlegend": true,
         "type": "scatter",
         "x": [
          "2020-02-24T18:00:00",
          "2020-02-25T18:00:00",
          "2020-02-26T18:00:00",
          "2020-02-27T18:00:00",
          "2020-02-28T18:00:00",
          "2020-02-29T17:00:00",
          "2020-03-01T17:00:00",
          "2020-03-02T18:00:00",
          "2020-03-03T18:00:00",
          "2020-03-04T17:00:00",
          "2020-03-05T17:00:00",
          "2020-03-06T17:00:00"
         ],
         "xaxis": "x",
         "y": [
          0,
          0,
          0,
          0,
          0,
          0,
          0,
          0,
          0,
          0,
          1,
          1
         ],
         "yaxis": "y"
        },
        {
         "hoverlabel": {
          "namelength": 0
         },
         "hovertemplate": "<b>%{hovertext}</b><br><br>denominazione_regione=Sardegna<br>data_pars=%{x}<br>terapia_intensiva=%{y}",
         "hovertext": [
          0,
          0,
          0,
          0,
          0,
          0,
          0,
          0,
          1,
          2,
          2,
          5
         ],
         "legendgroup": "denominazione_regione=Sardegna",
         "marker": {
          "color": "#FFA15A",
          "symbol": "circle"
         },
         "mode": "markers",
         "name": "denominazione_regione=Sardegna",
         "showlegend": true,
         "type": "scatter",
         "x": [
          "2020-02-24T18:00:00",
          "2020-02-25T18:00:00",
          "2020-02-26T18:00:00",
          "2020-02-27T18:00:00",
          "2020-02-28T18:00:00",
          "2020-02-29T17:00:00",
          "2020-03-01T17:00:00",
          "2020-03-02T18:00:00",
          "2020-03-03T18:00:00",
          "2020-03-04T17:00:00",
          "2020-03-05T17:00:00",
          "2020-03-06T17:00:00"
         ],
         "xaxis": "x",
         "y": [
          0,
          0,
          0,
          0,
          0,
          0,
          0,
          0,
          0,
          0,
          0,
          0
         ],
         "yaxis": "y"
        },
        {
         "hoverlabel": {
          "namelength": 0
         },
         "hovertemplate": "<b>%{hovertext}</b><br><br>denominazione_regione=Sicilia<br>data_pars=%{x}<br>terapia_intensiva=%{y}",
         "hovertext": [
          0,
          3,
          3,
          4,
          4,
          4,
          9,
          7,
          7,
          18,
          18,
          24
         ],
         "legendgroup": "denominazione_regione=Sicilia",
         "marker": {
          "color": "#19d3f3",
          "symbol": "circle"
         },
         "mode": "markers",
         "name": "denominazione_regione=Sicilia",
         "showlegend": true,
         "type": "scatter",
         "x": [
          "2020-02-24T18:00:00",
          "2020-02-25T18:00:00",
          "2020-02-26T18:00:00",
          "2020-02-27T18:00:00",
          "2020-02-28T18:00:00",
          "2020-02-29T17:00:00",
          "2020-03-01T17:00:00",
          "2020-03-02T18:00:00",
          "2020-03-03T18:00:00",
          "2020-03-04T17:00:00",
          "2020-03-05T17:00:00",
          "2020-03-06T17:00:00"
         ],
         "xaxis": "x",
         "y": [
          0,
          0,
          0,
          0,
          0,
          0,
          0,
          0,
          0,
          0,
          0,
          0
         ],
         "yaxis": "y"
        },
        {
         "hoverlabel": {
          "namelength": 0
         },
         "hovertemplate": "<b>%{hovertext}</b><br><br>denominazione_regione=Toscana<br>data_pars=%{x}<br>terapia_intensiva=%{y}",
         "hovertext": [
          0,
          2,
          2,
          2,
          8,
          11,
          13,
          13,
          19,
          38,
          61,
          79
         ],
         "legendgroup": "denominazione_regione=Toscana",
         "marker": {
          "color": "#FF6692",
          "symbol": "circle"
         },
         "mode": "markers",
         "name": "denominazione_regione=Toscana",
         "showlegend": true,
         "type": "scatter",
         "x": [
          "2020-02-24T18:00:00",
          "2020-02-25T18:00:00",
          "2020-02-26T18:00:00",
          "2020-02-27T18:00:00",
          "2020-02-28T18:00:00",
          "2020-02-29T17:00:00",
          "2020-03-01T17:00:00",
          "2020-03-02T18:00:00",
          "2020-03-03T18:00:00",
          "2020-03-04T17:00:00",
          "2020-03-05T17:00:00",
          "2020-03-06T17:00:00"
         ],
         "xaxis": "x",
         "y": [
          0,
          0,
          0,
          0,
          0,
          0,
          0,
          0,
          0,
          2,
          3,
          5
         ],
         "yaxis": "y"
        },
        {
         "hoverlabel": {
          "namelength": 0
         },
         "hovertemplate": "<b>%{hovertext}</b><br><br>denominazione_regione=Trento<br>data_pars=%{x}<br>terapia_intensiva=%{y}",
         "hovertext": [
          0,
          0,
          0,
          0,
          0,
          0,
          0,
          0,
          4,
          5,
          7,
          10
         ],
         "legendgroup": "denominazione_regione=Trento",
         "marker": {
          "color": "#B6E880",
          "symbol": "circle"
         },
         "mode": "markers",
         "name": "denominazione_regione=Trento",
         "showlegend": true,
         "type": "scatter",
         "x": [
          "2020-02-24T18:00:00",
          "2020-02-25T18:00:00",
          "2020-02-26T18:00:00",
          "2020-02-27T18:00:00",
          "2020-02-28T18:00:00",
          "2020-02-29T17:00:00",
          "2020-03-01T17:00:00",
          "2020-03-02T18:00:00",
          "2020-03-03T18:00:00",
          "2020-03-04T17:00:00",
          "2020-03-05T17:00:00",
          "2020-03-06T17:00:00"
         ],
         "xaxis": "x",
         "y": [
          0,
          0,
          0,
          0,
          0,
          0,
          0,
          0,
          0,
          0,
          0,
          0
         ],
         "yaxis": "y"
        },
        {
         "hoverlabel": {
          "namelength": 0
         },
         "hovertemplate": "<b>%{hovertext}</b><br><br>denominazione_regione=Umbria<br>data_pars=%{x}<br>terapia_intensiva=%{y}",
         "hovertext": [
          0,
          0,
          0,
          0,
          0,
          0,
          2,
          2,
          8,
          9,
          9,
          16
         ],
         "legendgroup": "denominazione_regione=Umbria",
         "marker": {
          "color": "#FF97FF",
          "symbol": "circle"
         },
         "mode": "markers",
         "name": "denominazione_regione=Umbria",
         "showlegend": true,
         "type": "scatter",
         "x": [
          "2020-02-24T18:00:00",
          "2020-02-25T18:00:00",
          "2020-02-26T18:00:00",
          "2020-02-27T18:00:00",
          "2020-02-28T18:00:00",
          "2020-02-29T17:00:00",
          "2020-03-01T17:00:00",
          "2020-03-02T18:00:00",
          "2020-03-03T18:00:00",
          "2020-03-04T17:00:00",
          "2020-03-05T17:00:00",
          "2020-03-06T17:00:00"
         ],
         "xaxis": "x",
         "y": [
          0,
          0,
          0,
          0,
          0,
          0,
          0,
          0,
          1,
          1,
          1,
          2
         ],
         "yaxis": "y"
        },
        {
         "hoverlabel": {
          "namelength": 0
         },
         "hovertemplate": "<b>%{hovertext}</b><br><br>denominazione_regione=Valle d'Aosta<br>data_pars=%{x}<br>terapia_intensiva=%{y}",
         "hovertext": [
          0,
          0,
          0,
          0,
          0,
          0,
          0,
          0,
          0,
          0,
          2,
          7
         ],
         "legendgroup": "denominazione_regione=Valle d'Aosta",
         "marker": {
          "color": "#FECB52",
          "symbol": "circle"
         },
         "mode": "markers",
         "name": "denominazione_regione=Valle d'Aosta",
         "showlegend": true,
         "type": "scatter",
         "x": [
          "2020-02-24T18:00:00",
          "2020-02-25T18:00:00",
          "2020-02-26T18:00:00",
          "2020-02-27T18:00:00",
          "2020-02-28T18:00:00",
          "2020-02-29T17:00:00",
          "2020-03-01T17:00:00",
          "2020-03-02T18:00:00",
          "2020-03-03T18:00:00",
          "2020-03-04T17:00:00",
          "2020-03-05T17:00:00",
          "2020-03-06T17:00:00"
         ],
         "xaxis": "x",
         "y": [
          0,
          0,
          0,
          0,
          0,
          0,
          0,
          0,
          0,
          0,
          0,
          0
         ],
         "yaxis": "y"
        },
        {
         "hoverlabel": {
          "namelength": 0
         },
         "hovertemplate": "<b>%{hovertext}</b><br><br>denominazione_regione=Veneto<br>data_pars=%{x}<br>terapia_intensiva=%{y}",
         "hovertext": [
          33,
          43,
          71,
          111,
          151,
          191,
          263,
          273,
          307,
          360,
          407,
          488
         ],
         "legendgroup": "denominazione_regione=Veneto",
         "marker": {
          "color": "#636efa",
          "symbol": "circle"
         },
         "mode": "markers",
         "name": "denominazione_regione=Veneto",
         "showlegend": true,
         "type": "scatter",
         "x": [
          "2020-02-24T18:00:00",
          "2020-02-25T18:00:00",
          "2020-02-26T18:00:00",
          "2020-02-27T18:00:00",
          "2020-02-28T18:00:00",
          "2020-02-29T17:00:00",
          "2020-03-01T17:00:00",
          "2020-03-02T18:00:00",
          "2020-03-03T18:00:00",
          "2020-03-04T17:00:00",
          "2020-03-05T17:00:00",
          "2020-03-06T17:00:00"
         ],
         "xaxis": "x",
         "y": [
          4,
          7,
          8,
          8,
          9,
          11,
          13,
          14,
          19,
          23,
          24,
          27
         ],
         "yaxis": "y"
        }
       ],
       "layout": {
        "height": 600,
        "legend": {
         "tracegroupgap": 0
        },
        "margin": {
         "t": 60
        },
        "template": {
         "data": {
          "bar": [
           {
            "error_x": {
             "color": "#2a3f5f"
            },
            "error_y": {
             "color": "#2a3f5f"
            },
            "marker": {
             "line": {
              "color": "#E5ECF6",
              "width": 0.5
             }
            },
            "type": "bar"
           }
          ],
          "barpolar": [
           {
            "marker": {
             "line": {
              "color": "#E5ECF6",
              "width": 0.5
             }
            },
            "type": "barpolar"
           }
          ],
          "carpet": [
           {
            "aaxis": {
             "endlinecolor": "#2a3f5f",
             "gridcolor": "white",
             "linecolor": "white",
             "minorgridcolor": "white",
             "startlinecolor": "#2a3f5f"
            },
            "baxis": {
             "endlinecolor": "#2a3f5f",
             "gridcolor": "white",
             "linecolor": "white",
             "minorgridcolor": "white",
             "startlinecolor": "#2a3f5f"
            },
            "type": "carpet"
           }
          ],
          "choropleth": [
           {
            "colorbar": {
             "outlinewidth": 0,
             "ticks": ""
            },
            "type": "choropleth"
           }
          ],
          "contour": [
           {
            "colorbar": {
             "outlinewidth": 0,
             "ticks": ""
            },
            "colorscale": [
             [
              0,
              "#0d0887"
             ],
             [
              0.1111111111111111,
              "#46039f"
             ],
             [
              0.2222222222222222,
              "#7201a8"
             ],
             [
              0.3333333333333333,
              "#9c179e"
             ],
             [
              0.4444444444444444,
              "#bd3786"
             ],
             [
              0.5555555555555556,
              "#d8576b"
             ],
             [
              0.6666666666666666,
              "#ed7953"
             ],
             [
              0.7777777777777778,
              "#fb9f3a"
             ],
             [
              0.8888888888888888,
              "#fdca26"
             ],
             [
              1,
              "#f0f921"
             ]
            ],
            "type": "contour"
           }
          ],
          "contourcarpet": [
           {
            "colorbar": {
             "outlinewidth": 0,
             "ticks": ""
            },
            "type": "contourcarpet"
           }
          ],
          "heatmap": [
           {
            "colorbar": {
             "outlinewidth": 0,
             "ticks": ""
            },
            "colorscale": [
             [
              0,
              "#0d0887"
             ],
             [
              0.1111111111111111,
              "#46039f"
             ],
             [
              0.2222222222222222,
              "#7201a8"
             ],
             [
              0.3333333333333333,
              "#9c179e"
             ],
             [
              0.4444444444444444,
              "#bd3786"
             ],
             [
              0.5555555555555556,
              "#d8576b"
             ],
             [
              0.6666666666666666,
              "#ed7953"
             ],
             [
              0.7777777777777778,
              "#fb9f3a"
             ],
             [
              0.8888888888888888,
              "#fdca26"
             ],
             [
              1,
              "#f0f921"
             ]
            ],
            "type": "heatmap"
           }
          ],
          "heatmapgl": [
           {
            "colorbar": {
             "outlinewidth": 0,
             "ticks": ""
            },
            "colorscale": [
             [
              0,
              "#0d0887"
             ],
             [
              0.1111111111111111,
              "#46039f"
             ],
             [
              0.2222222222222222,
              "#7201a8"
             ],
             [
              0.3333333333333333,
              "#9c179e"
             ],
             [
              0.4444444444444444,
              "#bd3786"
             ],
             [
              0.5555555555555556,
              "#d8576b"
             ],
             [
              0.6666666666666666,
              "#ed7953"
             ],
             [
              0.7777777777777778,
              "#fb9f3a"
             ],
             [
              0.8888888888888888,
              "#fdca26"
             ],
             [
              1,
              "#f0f921"
             ]
            ],
            "type": "heatmapgl"
           }
          ],
          "histogram": [
           {
            "marker": {
             "colorbar": {
              "outlinewidth": 0,
              "ticks": ""
             }
            },
            "type": "histogram"
           }
          ],
          "histogram2d": [
           {
            "colorbar": {
             "outlinewidth": 0,
             "ticks": ""
            },
            "colorscale": [
             [
              0,
              "#0d0887"
             ],
             [
              0.1111111111111111,
              "#46039f"
             ],
             [
              0.2222222222222222,
              "#7201a8"
             ],
             [
              0.3333333333333333,
              "#9c179e"
             ],
             [
              0.4444444444444444,
              "#bd3786"
             ],
             [
              0.5555555555555556,
              "#d8576b"
             ],
             [
              0.6666666666666666,
              "#ed7953"
             ],
             [
              0.7777777777777778,
              "#fb9f3a"
             ],
             [
              0.8888888888888888,
              "#fdca26"
             ],
             [
              1,
              "#f0f921"
             ]
            ],
            "type": "histogram2d"
           }
          ],
          "histogram2dcontour": [
           {
            "colorbar": {
             "outlinewidth": 0,
             "ticks": ""
            },
            "colorscale": [
             [
              0,
              "#0d0887"
             ],
             [
              0.1111111111111111,
              "#46039f"
             ],
             [
              0.2222222222222222,
              "#7201a8"
             ],
             [
              0.3333333333333333,
              "#9c179e"
             ],
             [
              0.4444444444444444,
              "#bd3786"
             ],
             [
              0.5555555555555556,
              "#d8576b"
             ],
             [
              0.6666666666666666,
              "#ed7953"
             ],
             [
              0.7777777777777778,
              "#fb9f3a"
             ],
             [
              0.8888888888888888,
              "#fdca26"
             ],
             [
              1,
              "#f0f921"
             ]
            ],
            "type": "histogram2dcontour"
           }
          ],
          "mesh3d": [
           {
            "colorbar": {
             "outlinewidth": 0,
             "ticks": ""
            },
            "type": "mesh3d"
           }
          ],
          "parcoords": [
           {
            "line": {
             "colorbar": {
              "outlinewidth": 0,
              "ticks": ""
             }
            },
            "type": "parcoords"
           }
          ],
          "scatter": [
           {
            "marker": {
             "colorbar": {
              "outlinewidth": 0,
              "ticks": ""
             }
            },
            "type": "scatter"
           }
          ],
          "scatter3d": [
           {
            "line": {
             "colorbar": {
              "outlinewidth": 0,
              "ticks": ""
             }
            },
            "marker": {
             "colorbar": {
              "outlinewidth": 0,
              "ticks": ""
             }
            },
            "type": "scatter3d"
           }
          ],
          "scattercarpet": [
           {
            "marker": {
             "colorbar": {
              "outlinewidth": 0,
              "ticks": ""
             }
            },
            "type": "scattercarpet"
           }
          ],
          "scattergeo": [
           {
            "marker": {
             "colorbar": {
              "outlinewidth": 0,
              "ticks": ""
             }
            },
            "type": "scattergeo"
           }
          ],
          "scattergl": [
           {
            "marker": {
             "colorbar": {
              "outlinewidth": 0,
              "ticks": ""
             }
            },
            "type": "scattergl"
           }
          ],
          "scattermapbox": [
           {
            "marker": {
             "colorbar": {
              "outlinewidth": 0,
              "ticks": ""
             }
            },
            "type": "scattermapbox"
           }
          ],
          "scatterpolar": [
           {
            "marker": {
             "colorbar": {
              "outlinewidth": 0,
              "ticks": ""
             }
            },
            "type": "scatterpolar"
           }
          ],
          "scatterpolargl": [
           {
            "marker": {
             "colorbar": {
              "outlinewidth": 0,
              "ticks": ""
             }
            },
            "type": "scatterpolargl"
           }
          ],
          "scatterternary": [
           {
            "marker": {
             "colorbar": {
              "outlinewidth": 0,
              "ticks": ""
             }
            },
            "type": "scatterternary"
           }
          ],
          "surface": [
           {
            "colorbar": {
             "outlinewidth": 0,
             "ticks": ""
            },
            "colorscale": [
             [
              0,
              "#0d0887"
             ],
             [
              0.1111111111111111,
              "#46039f"
             ],
             [
              0.2222222222222222,
              "#7201a8"
             ],
             [
              0.3333333333333333,
              "#9c179e"
             ],
             [
              0.4444444444444444,
              "#bd3786"
             ],
             [
              0.5555555555555556,
              "#d8576b"
             ],
             [
              0.6666666666666666,
              "#ed7953"
             ],
             [
              0.7777777777777778,
              "#fb9f3a"
             ],
             [
              0.8888888888888888,
              "#fdca26"
             ],
             [
              1,
              "#f0f921"
             ]
            ],
            "type": "surface"
           }
          ],
          "table": [
           {
            "cells": {
             "fill": {
              "color": "#EBF0F8"
             },
             "line": {
              "color": "white"
             }
            },
            "header": {
             "fill": {
              "color": "#C8D4E3"
             },
             "line": {
              "color": "white"
             }
            },
            "type": "table"
           }
          ]
         },
         "layout": {
          "annotationdefaults": {
           "arrowcolor": "#2a3f5f",
           "arrowhead": 0,
           "arrowwidth": 1
          },
          "colorscale": {
           "diverging": [
            [
             0,
             "#8e0152"
            ],
            [
             0.1,
             "#c51b7d"
            ],
            [
             0.2,
             "#de77ae"
            ],
            [
             0.3,
             "#f1b6da"
            ],
            [
             0.4,
             "#fde0ef"
            ],
            [
             0.5,
             "#f7f7f7"
            ],
            [
             0.6,
             "#e6f5d0"
            ],
            [
             0.7,
             "#b8e186"
            ],
            [
             0.8,
             "#7fbc41"
            ],
            [
             0.9,
             "#4d9221"
            ],
            [
             1,
             "#276419"
            ]
           ],
           "sequential": [
            [
             0,
             "#0d0887"
            ],
            [
             0.1111111111111111,
             "#46039f"
            ],
            [
             0.2222222222222222,
             "#7201a8"
            ],
            [
             0.3333333333333333,
             "#9c179e"
            ],
            [
             0.4444444444444444,
             "#bd3786"
            ],
            [
             0.5555555555555556,
             "#d8576b"
            ],
            [
             0.6666666666666666,
             "#ed7953"
            ],
            [
             0.7777777777777778,
             "#fb9f3a"
            ],
            [
             0.8888888888888888,
             "#fdca26"
            ],
            [
             1,
             "#f0f921"
            ]
           ],
           "sequentialminus": [
            [
             0,
             "#0d0887"
            ],
            [
             0.1111111111111111,
             "#46039f"
            ],
            [
             0.2222222222222222,
             "#7201a8"
            ],
            [
             0.3333333333333333,
             "#9c179e"
            ],
            [
             0.4444444444444444,
             "#bd3786"
            ],
            [
             0.5555555555555556,
             "#d8576b"
            ],
            [
             0.6666666666666666,
             "#ed7953"
            ],
            [
             0.7777777777777778,
             "#fb9f3a"
            ],
            [
             0.8888888888888888,
             "#fdca26"
            ],
            [
             1,
             "#f0f921"
            ]
           ]
          },
          "colorway": [
           "#636efa",
           "#EF553B",
           "#00cc96",
           "#ab63fa",
           "#FFA15A",
           "#19d3f3",
           "#FF6692",
           "#B6E880",
           "#FF97FF",
           "#FECB52"
          ],
          "font": {
           "color": "#2a3f5f"
          },
          "geo": {
           "bgcolor": "white",
           "lakecolor": "white",
           "landcolor": "#E5ECF6",
           "showlakes": true,
           "showland": true,
           "subunitcolor": "white"
          },
          "hoverlabel": {
           "align": "left"
          },
          "hovermode": "closest",
          "mapbox": {
           "style": "light"
          },
          "paper_bgcolor": "white",
          "plot_bgcolor": "#E5ECF6",
          "polar": {
           "angularaxis": {
            "gridcolor": "white",
            "linecolor": "white",
            "ticks": ""
           },
           "bgcolor": "#E5ECF6",
           "radialaxis": {
            "gridcolor": "white",
            "linecolor": "white",
            "ticks": ""
           }
          },
          "scene": {
           "xaxis": {
            "backgroundcolor": "#E5ECF6",
            "gridcolor": "white",
            "gridwidth": 2,
            "linecolor": "white",
            "showbackground": true,
            "ticks": "",
            "zerolinecolor": "white"
           },
           "yaxis": {
            "backgroundcolor": "#E5ECF6",
            "gridcolor": "white",
            "gridwidth": 2,
            "linecolor": "white",
            "showbackground": true,
            "ticks": "",
            "zerolinecolor": "white"
           },
           "zaxis": {
            "backgroundcolor": "#E5ECF6",
            "gridcolor": "white",
            "gridwidth": 2,
            "linecolor": "white",
            "showbackground": true,
            "ticks": "",
            "zerolinecolor": "white"
           }
          },
          "shapedefaults": {
           "line": {
            "color": "#2a3f5f"
           }
          },
          "ternary": {
           "aaxis": {
            "gridcolor": "white",
            "linecolor": "white",
            "ticks": ""
           },
           "baxis": {
            "gridcolor": "white",
            "linecolor": "white",
            "ticks": ""
           },
           "bgcolor": "#E5ECF6",
           "caxis": {
            "gridcolor": "white",
            "linecolor": "white",
            "ticks": ""
           }
          },
          "title": {
           "x": 0.05
          },
          "xaxis": {
           "automargin": true,
           "gridcolor": "white",
           "linecolor": "white",
           "ticks": "",
           "zerolinecolor": "white",
           "zerolinewidth": 2
          },
          "yaxis": {
           "automargin": true,
           "gridcolor": "white",
           "linecolor": "white",
           "ticks": "",
           "zerolinecolor": "white",
           "zerolinewidth": 2
          }
         }
        },
        "xaxis": {
         "anchor": "y",
         "domain": [
          0,
          0.98
         ],
         "title": {
          "text": "data_pars"
         }
        },
        "yaxis": {
         "anchor": "x",
         "domain": [
          0,
          1
         ],
         "title": {
          "text": "terapia_intensiva"
         }
        }
       }
      },
      "text/html": [
       "<div>\n",
       "        \n",
       "        \n",
       "            <div id=\"38b25a4f-fd5a-4abe-aa1a-e403a2383ebb\" class=\"plotly-graph-div\" style=\"height:600px; width:100%;\"></div>\n",
       "            <script type=\"text/javascript\">\n",
       "                require([\"plotly\"], function(Plotly) {\n",
       "                    window.PLOTLYENV=window.PLOTLYENV || {};\n",
       "                    \n",
       "                if (document.getElementById(\"38b25a4f-fd5a-4abe-aa1a-e403a2383ebb\")) {\n",
       "                    Plotly.newPlot(\n",
       "                        '38b25a4f-fd5a-4abe-aa1a-e403a2383ebb',\n",
       "                        [{\"hoverlabel\": {\"namelength\": 0}, \"hovertemplate\": \"<b>%{hovertext}</b><br><br>denominazione_regione=Abruzzo<br>data_pars=%{x}<br>terapia_intensiva=%{y}\", \"hovertext\": [0.0, 0.0, 0.0, 1.0, 1.0, 2.0, 5.0, 5.0, 6.0, 7.0, 8.0, 9.0], \"legendgroup\": \"denominazione_regione=Abruzzo\", \"marker\": {\"color\": \"#636efa\", \"symbol\": \"circle\"}, \"mode\": \"markers\", \"name\": \"denominazione_regione=Abruzzo\", \"showlegend\": true, \"type\": \"scatter\", \"x\": [\"2020-02-24T18:00:00\", \"2020-02-25T18:00:00\", \"2020-02-26T18:00:00\", \"2020-02-27T18:00:00\", \"2020-02-28T18:00:00\", \"2020-02-29T17:00:00\", \"2020-03-01T17:00:00\", \"2020-03-02T18:00:00\", \"2020-03-03T18:00:00\", \"2020-03-04T17:00:00\", \"2020-03-05T17:00:00\", \"2020-03-06T17:00:00\"], \"xaxis\": \"x\", \"y\": [0, 0, 0, 0, 0, 0, 0, 0, 0, 0, 0, 0], \"yaxis\": \"y\"}, {\"hoverlabel\": {\"namelength\": 0}, \"hovertemplate\": \"<b>%{hovertext}</b><br><br>denominazione_regione=Basilicata<br>data_pars=%{x}<br>terapia_intensiva=%{y}\", \"hovertext\": [0.0, 0.0, 0.0, 0.0, 0.0, 0.0, 0.0, 0.0, 1.0, 1.0, 1.0, 3.0], \"legendgroup\": \"denominazione_regione=Basilicata\", \"marker\": {\"color\": \"#EF553B\", \"symbol\": \"circle\"}, \"mode\": \"markers\", \"name\": \"denominazione_regione=Basilicata\", \"showlegend\": true, \"type\": \"scatter\", \"x\": [\"2020-02-24T18:00:00\", \"2020-02-25T18:00:00\", \"2020-02-26T18:00:00\", \"2020-02-27T18:00:00\", \"2020-02-28T18:00:00\", \"2020-02-29T17:00:00\", \"2020-03-01T17:00:00\", \"2020-03-02T18:00:00\", \"2020-03-03T18:00:00\", \"2020-03-04T17:00:00\", \"2020-03-05T17:00:00\", \"2020-03-06T17:00:00\"], \"xaxis\": \"x\", \"y\": [0, 0, 0, 0, 0, 0, 0, 0, 0, 0, 0, 0], \"yaxis\": \"y\"}, {\"hoverlabel\": {\"namelength\": 0}, \"hovertemplate\": \"<b>%{hovertext}</b><br><br>denominazione_regione=Bolzano<br>data_pars=%{x}<br>terapia_intensiva=%{y}\", \"hovertext\": [0.0, 1.0, 1.0, 1.0, 1.0, 1.0, 1.0, 1.0, 1.0, 1.0, 1.0, 4.0], \"legendgroup\": \"denominazione_regione=Bolzano\", \"marker\": {\"color\": \"#00cc96\", \"symbol\": \"circle\"}, \"mode\": \"markers\", \"name\": \"denominazione_regione=Bolzano\", \"showlegend\": true, \"type\": \"scatter\", \"x\": [\"2020-02-24T18:00:00\", \"2020-02-25T18:00:00\", \"2020-02-26T18:00:00\", \"2020-02-27T18:00:00\", \"2020-02-28T18:00:00\", \"2020-02-29T17:00:00\", \"2020-03-01T17:00:00\", \"2020-03-02T18:00:00\", \"2020-03-03T18:00:00\", \"2020-03-04T17:00:00\", \"2020-03-05T17:00:00\", \"2020-03-06T17:00:00\"], \"xaxis\": \"x\", \"y\": [0, 0, 0, 0, 0, 0, 0, 0, 0, 0, 0, 0], \"yaxis\": \"y\"}, {\"hoverlabel\": {\"namelength\": 0}, \"hovertemplate\": \"<b>%{hovertext}</b><br><br>denominazione_regione=Calabria<br>data_pars=%{x}<br>terapia_intensiva=%{y}\", \"hovertext\": [0.0, 0.0, 0.0, 0.0, 1.0, 1.0, 1.0, 1.0, 1.0, 1.0, 2.0, 4.0], \"legendgroup\": \"denominazione_regione=Calabria\", \"marker\": {\"color\": \"#ab63fa\", \"symbol\": \"circle\"}, \"mode\": \"markers\", \"name\": \"denominazione_regione=Calabria\", \"showlegend\": true, \"type\": \"scatter\", \"x\": [\"2020-02-24T18:00:00\", \"2020-02-25T18:00:00\", \"2020-02-26T18:00:00\", \"2020-02-27T18:00:00\", \"2020-02-28T18:00:00\", \"2020-02-29T17:00:00\", \"2020-03-01T17:00:00\", \"2020-03-02T18:00:00\", \"2020-03-03T18:00:00\", \"2020-03-04T17:00:00\", \"2020-03-05T17:00:00\", \"2020-03-06T17:00:00\"], \"xaxis\": \"x\", \"y\": [0, 0, 0, 0, 0, 0, 0, 0, 0, 0, 0, 0], \"yaxis\": \"y\"}, {\"hoverlabel\": {\"namelength\": 0}, \"hovertemplate\": \"<b>%{hovertext}</b><br><br>denominazione_regione=Campania<br>data_pars=%{x}<br>terapia_intensiva=%{y}\", \"hovertext\": [0.0, 0.0, 0.0, 3.0, 4.0, 13.0, 17.0, 17.0, 30.0, 31.0, 45.0, 57.0], \"legendgroup\": \"denominazione_regione=Campania\", \"marker\": {\"color\": \"#FFA15A\", \"symbol\": \"circle\"}, \"mode\": \"markers\", \"name\": \"denominazione_regione=Campania\", \"showlegend\": true, \"type\": \"scatter\", \"x\": [\"2020-02-24T18:00:00\", \"2020-02-25T18:00:00\", \"2020-02-26T18:00:00\", \"2020-02-27T18:00:00\", \"2020-02-28T18:00:00\", \"2020-02-29T17:00:00\", \"2020-03-01T17:00:00\", \"2020-03-02T18:00:00\", \"2020-03-03T18:00:00\", \"2020-03-04T17:00:00\", \"2020-03-05T17:00:00\", \"2020-03-06T17:00:00\"], \"xaxis\": \"x\", \"y\": [0, 0, 0, 0, 0, 0, 0, 0, 0, 0, 0, 0], \"yaxis\": \"y\"}, {\"hoverlabel\": {\"namelength\": 0}, \"hovertemplate\": \"<b>%{hovertext}</b><br><br>denominazione_regione=Emilia Romagna<br>data_pars=%{x}<br>terapia_intensiva=%{y}\", \"hovertext\": [18.0, 26.0, 47.0, 97.0, 145.0, 217.0, 285.0, 335.0, 420.0, 544.0, 698.0, 870.0], \"legendgroup\": \"denominazione_regione=Emilia Romagna\", \"marker\": {\"color\": \"#19d3f3\", \"symbol\": \"circle\"}, \"mode\": \"markers\", \"name\": \"denominazione_regione=Emilia Romagna\", \"showlegend\": true, \"type\": \"scatter\", \"x\": [\"2020-02-24T18:00:00\", \"2020-02-25T18:00:00\", \"2020-02-26T18:00:00\", \"2020-02-27T18:00:00\", \"2020-02-28T18:00:00\", \"2020-02-29T17:00:00\", \"2020-03-01T17:00:00\", \"2020-03-02T18:00:00\", \"2020-03-03T18:00:00\", \"2020-03-04T17:00:00\", \"2020-03-05T17:00:00\", \"2020-03-06T17:00:00\"], \"xaxis\": \"x\", \"y\": [2, 2, 3, 6, 6, 11, 13, 16, 24, 26, 32, 53], \"yaxis\": \"y\"}, {\"hoverlabel\": {\"namelength\": 0}, \"hovertemplate\": \"<b>%{hovertext}</b><br><br>denominazione_regione=Friuli Venezia Giulia<br>data_pars=%{x}<br>terapia_intensiva=%{y}\", \"hovertext\": [0.0, 0.0, 0.0, 0.0, 0.0, 0.0, 6.0, 9.0, 13.0, 18.0, 21.0, 31.0], \"legendgroup\": \"denominazione_regione=Friuli Venezia Giulia\", \"marker\": {\"color\": \"#FF6692\", \"symbol\": \"circle\"}, \"mode\": \"markers\", \"name\": \"denominazione_regione=Friuli Venezia Giulia\", \"showlegend\": true, \"type\": \"scatter\", \"x\": [\"2020-02-24T18:00:00\", \"2020-02-25T18:00:00\", \"2020-02-26T18:00:00\", \"2020-02-27T18:00:00\", \"2020-02-28T18:00:00\", \"2020-02-29T17:00:00\", \"2020-03-01T17:00:00\", \"2020-03-02T18:00:00\", \"2020-03-03T18:00:00\", \"2020-03-04T17:00:00\", \"2020-03-05T17:00:00\", \"2020-03-06T17:00:00\"], \"xaxis\": \"x\", \"y\": [0, 0, 0, 0, 0, 0, 0, 0, 0, 0, 0, 0], \"yaxis\": \"y\"}, {\"hoverlabel\": {\"namelength\": 0}, \"hovertemplate\": \"<b>%{hovertext}</b><br><br>denominazione_regione=Lazio<br>data_pars=%{x}<br>terapia_intensiva=%{y}\", \"hovertext\": [3.0, 3.0, 3.0, 3.0, 3.0, 6.0, 6.0, 7.0, 14.0, 30.0, 44.0, 54.0], \"legendgroup\": \"denominazione_regione=Lazio\", \"marker\": {\"color\": \"#B6E880\", \"symbol\": \"circle\"}, \"mode\": \"markers\", \"name\": \"denominazione_regione=Lazio\", \"showlegend\": true, \"type\": \"scatter\", \"x\": [\"2020-02-24T18:00:00\", \"2020-02-25T18:00:00\", \"2020-02-26T18:00:00\", \"2020-02-27T18:00:00\", \"2020-02-28T18:00:00\", \"2020-02-29T17:00:00\", \"2020-03-01T17:00:00\", \"2020-03-02T18:00:00\", \"2020-03-03T18:00:00\", \"2020-03-04T17:00:00\", \"2020-03-05T17:00:00\", \"2020-03-06T17:00:00\"], \"xaxis\": \"x\", \"y\": [1, 1, 0, 0, 0, 0, 0, 0, 0, 3, 7, 8], \"yaxis\": \"y\"}, {\"hoverlabel\": {\"namelength\": 0}, \"hovertemplate\": \"<b>%{hovertext}</b><br><br>denominazione_regione=Liguria<br>data_pars=%{x}<br>terapia_intensiva=%{y}\", \"hovertext\": [0.0, 1.0, 11.0, 19.0, 19.0, 42.0, 25.0, 22.0, 24.0, 26.0, 28.0, 32.0], \"legendgroup\": \"denominazione_regione=Liguria\", \"marker\": {\"color\": \"#FF97FF\", \"symbol\": \"circle\"}, \"mode\": \"markers\", \"name\": \"denominazione_regione=Liguria\", \"showlegend\": true, \"type\": \"scatter\", \"x\": [\"2020-02-24T18:00:00\", \"2020-02-25T18:00:00\", \"2020-02-26T18:00:00\", \"2020-02-27T18:00:00\", \"2020-02-28T18:00:00\", \"2020-02-29T17:00:00\", \"2020-03-01T17:00:00\", \"2020-03-02T18:00:00\", \"2020-03-03T18:00:00\", \"2020-03-04T17:00:00\", \"2020-03-05T17:00:00\", \"2020-03-06T17:00:00\"], \"xaxis\": \"x\", \"y\": [0, 0, 0, 0, 0, 1, 1, 1, 2, 3, 3, 5], \"yaxis\": \"y\"}, {\"hoverlabel\": {\"namelength\": 0}, \"hovertemplate\": \"<b>%{hovertext}</b><br><br>denominazione_regione=Lombardia<br>data_pars=%{x}<br>terapia_intensiva=%{y}\", \"hovertext\": [172.0, 240.0, 258.0, 403.0, 531.0, 615.0, 984.0, 1254.0, 1520.0, 1820.0, 2251.0, 2612.0], \"legendgroup\": \"denominazione_regione=Lombardia\", \"marker\": {\"color\": \"#FECB52\", \"symbol\": \"circle\"}, \"mode\": \"markers\", \"name\": \"denominazione_regione=Lombardia\", \"showlegend\": true, \"type\": \"scatter\", \"x\": [\"2020-02-24T18:00:00\", \"2020-02-25T18:00:00\", \"2020-02-26T18:00:00\", \"2020-02-27T18:00:00\", \"2020-02-28T18:00:00\", \"2020-02-29T17:00:00\", \"2020-03-01T17:00:00\", \"2020-03-02T18:00:00\", \"2020-03-03T18:00:00\", \"2020-03-04T17:00:00\", \"2020-03-05T17:00:00\", \"2020-03-06T17:00:00\"], \"xaxis\": \"x\", \"y\": [19, 25, 25, 41, 47, 80, 106, 127, 167, 209, 244, 309], \"yaxis\": \"y\"}, {\"hoverlabel\": {\"namelength\": 0}, \"hovertemplate\": \"<b>%{hovertext}</b><br><br>denominazione_regione=Marche<br>data_pars=%{x}<br>terapia_intensiva=%{y}\", \"hovertext\": [0.0, 0.0, 1.0, 3.0, 6.0, 11.0, 25.0, 35.0, 61.0, 84.0, 124.0, 159.0], \"legendgroup\": \"denominazione_regione=Marche\", \"marker\": {\"color\": \"#636efa\", \"symbol\": \"circle\"}, \"mode\": \"markers\", \"name\": \"denominazione_regione=Marche\", \"showlegend\": true, \"type\": \"scatter\", \"x\": [\"2020-02-24T18:00:00\", \"2020-02-25T18:00:00\", \"2020-02-26T18:00:00\", \"2020-02-27T18:00:00\", \"2020-02-28T18:00:00\", \"2020-02-29T17:00:00\", \"2020-03-01T17:00:00\", \"2020-03-02T18:00:00\", \"2020-03-03T18:00:00\", \"2020-03-04T17:00:00\", \"2020-03-05T17:00:00\", \"2020-03-06T17:00:00\"], \"xaxis\": \"x\", \"y\": [0, 0, 0, 1, 2, 2, 5, 6, 13, 15, 19, 20], \"yaxis\": \"y\"}, {\"hoverlabel\": {\"namelength\": 0}, \"hovertemplate\": \"<b>%{hovertext}</b><br><br>denominazione_regione=Molise<br>data_pars=%{x}<br>terapia_intensiva=%{y}\", \"hovertext\": [0.0, 0.0, 0.0, 0.0, 0.0, 0.0, 0.0, 0.0, 3.0, 3.0, 7.0, 12.0], \"legendgroup\": \"denominazione_regione=Molise\", \"marker\": {\"color\": \"#EF553B\", \"symbol\": \"circle\"}, \"mode\": \"markers\", \"name\": \"denominazione_regione=Molise\", \"showlegend\": true, \"type\": \"scatter\", \"x\": [\"2020-02-24T18:00:00\", \"2020-02-25T18:00:00\", \"2020-02-26T18:00:00\", \"2020-02-27T18:00:00\", \"2020-02-28T18:00:00\", \"2020-02-29T17:00:00\", \"2020-03-01T17:00:00\", \"2020-03-02T18:00:00\", \"2020-03-03T18:00:00\", \"2020-03-04T17:00:00\", \"2020-03-05T17:00:00\", \"2020-03-06T17:00:00\"], \"xaxis\": \"x\", \"y\": [0, 0, 0, 0, 0, 0, 0, 0, 0, 0, 0, 2], \"yaxis\": \"y\"}, {\"hoverlabel\": {\"namelength\": 0}, \"hovertemplate\": \"<b>%{hovertext}</b><br><br>denominazione_regione=Piemonte<br>data_pars=%{x}<br>terapia_intensiva=%{y}\", \"hovertext\": [3.0, 3.0, 3.0, 2.0, 11.0, 11.0, 49.0, 51.0, 56.0, 82.0, 108.0, 143.0], \"legendgroup\": \"denominazione_regione=Piemonte\", \"marker\": {\"color\": \"#00cc96\", \"symbol\": \"circle\"}, \"mode\": \"markers\", \"name\": \"denominazione_regione=Piemonte\", \"showlegend\": true, \"type\": \"scatter\", \"x\": [\"2020-02-24T18:00:00\", \"2020-02-25T18:00:00\", \"2020-02-26T18:00:00\", \"2020-02-27T18:00:00\", \"2020-02-28T18:00:00\", \"2020-02-29T17:00:00\", \"2020-03-01T17:00:00\", \"2020-03-02T18:00:00\", \"2020-03-03T18:00:00\", \"2020-03-04T17:00:00\", \"2020-03-05T17:00:00\", \"2020-03-06T17:00:00\"], \"xaxis\": \"x\", \"y\": [0, 0, 0, 0, 0, 0, 2, 2, 3, 13, 17, 30], \"yaxis\": \"y\"}, {\"hoverlabel\": {\"namelength\": 0}, \"hovertemplate\": \"<b>%{hovertext}</b><br><br>denominazione_regione=Puglia<br>data_pars=%{x}<br>terapia_intensiva=%{y}\", \"hovertext\": [0.0, 0.0, 0.0, 1.0, 3.0, 3.0, 3.0, 4.0, 6.0, 9.0, 14.0, 17.0], \"legendgroup\": \"denominazione_regione=Puglia\", \"marker\": {\"color\": \"#ab63fa\", \"symbol\": \"circle\"}, \"mode\": \"markers\", \"name\": \"denominazione_regione=Puglia\", \"showlegend\": true, \"type\": \"scatter\", \"x\": [\"2020-02-24T18:00:00\", \"2020-02-25T18:00:00\", \"2020-02-26T18:00:00\", \"2020-02-27T18:00:00\", \"2020-02-28T18:00:00\", \"2020-02-29T17:00:00\", \"2020-03-01T17:00:00\", \"2020-03-02T18:00:00\", \"2020-03-03T18:00:00\", \"2020-03-04T17:00:00\", \"2020-03-05T17:00:00\", \"2020-03-06T17:00:00\"], \"xaxis\": \"x\", \"y\": [0, 0, 0, 0, 0, 0, 0, 0, 0, 0, 1, 1], \"yaxis\": \"y\"}, {\"hoverlabel\": {\"namelength\": 0}, \"hovertemplate\": \"<b>%{hovertext}</b><br><br>denominazione_regione=Sardegna<br>data_pars=%{x}<br>terapia_intensiva=%{y}\", \"hovertext\": [0.0, 0.0, 0.0, 0.0, 0.0, 0.0, 0.0, 0.0, 1.0, 2.0, 2.0, 5.0], \"legendgroup\": \"denominazione_regione=Sardegna\", \"marker\": {\"color\": \"#FFA15A\", \"symbol\": \"circle\"}, \"mode\": \"markers\", \"name\": \"denominazione_regione=Sardegna\", \"showlegend\": true, \"type\": \"scatter\", \"x\": [\"2020-02-24T18:00:00\", \"2020-02-25T18:00:00\", \"2020-02-26T18:00:00\", \"2020-02-27T18:00:00\", \"2020-02-28T18:00:00\", \"2020-02-29T17:00:00\", \"2020-03-01T17:00:00\", \"2020-03-02T18:00:00\", \"2020-03-03T18:00:00\", \"2020-03-04T17:00:00\", \"2020-03-05T17:00:00\", \"2020-03-06T17:00:00\"], \"xaxis\": \"x\", \"y\": [0, 0, 0, 0, 0, 0, 0, 0, 0, 0, 0, 0], \"yaxis\": \"y\"}, {\"hoverlabel\": {\"namelength\": 0}, \"hovertemplate\": \"<b>%{hovertext}</b><br><br>denominazione_regione=Sicilia<br>data_pars=%{x}<br>terapia_intensiva=%{y}\", \"hovertext\": [0.0, 3.0, 3.0, 4.0, 4.0, 4.0, 9.0, 7.0, 7.0, 18.0, 18.0, 24.0], \"legendgroup\": \"denominazione_regione=Sicilia\", \"marker\": {\"color\": \"#19d3f3\", \"symbol\": \"circle\"}, \"mode\": \"markers\", \"name\": \"denominazione_regione=Sicilia\", \"showlegend\": true, \"type\": \"scatter\", \"x\": [\"2020-02-24T18:00:00\", \"2020-02-25T18:00:00\", \"2020-02-26T18:00:00\", \"2020-02-27T18:00:00\", \"2020-02-28T18:00:00\", \"2020-02-29T17:00:00\", \"2020-03-01T17:00:00\", \"2020-03-02T18:00:00\", \"2020-03-03T18:00:00\", \"2020-03-04T17:00:00\", \"2020-03-05T17:00:00\", \"2020-03-06T17:00:00\"], \"xaxis\": \"x\", \"y\": [0, 0, 0, 0, 0, 0, 0, 0, 0, 0, 0, 0], \"yaxis\": \"y\"}, {\"hoverlabel\": {\"namelength\": 0}, \"hovertemplate\": \"<b>%{hovertext}</b><br><br>denominazione_regione=Toscana<br>data_pars=%{x}<br>terapia_intensiva=%{y}\", \"hovertext\": [0.0, 2.0, 2.0, 2.0, 8.0, 11.0, 13.0, 13.0, 19.0, 38.0, 61.0, 79.0], \"legendgroup\": \"denominazione_regione=Toscana\", \"marker\": {\"color\": \"#FF6692\", \"symbol\": \"circle\"}, \"mode\": \"markers\", \"name\": \"denominazione_regione=Toscana\", \"showlegend\": true, \"type\": \"scatter\", \"x\": [\"2020-02-24T18:00:00\", \"2020-02-25T18:00:00\", \"2020-02-26T18:00:00\", \"2020-02-27T18:00:00\", \"2020-02-28T18:00:00\", \"2020-02-29T17:00:00\", \"2020-03-01T17:00:00\", \"2020-03-02T18:00:00\", \"2020-03-03T18:00:00\", \"2020-03-04T17:00:00\", \"2020-03-05T17:00:00\", \"2020-03-06T17:00:00\"], \"xaxis\": \"x\", \"y\": [0, 0, 0, 0, 0, 0, 0, 0, 0, 2, 3, 5], \"yaxis\": \"y\"}, {\"hoverlabel\": {\"namelength\": 0}, \"hovertemplate\": \"<b>%{hovertext}</b><br><br>denominazione_regione=Trento<br>data_pars=%{x}<br>terapia_intensiva=%{y}\", \"hovertext\": [0.0, 0.0, 0.0, 0.0, 0.0, 0.0, 0.0, 0.0, 4.0, 5.0, 7.0, 10.0], \"legendgroup\": \"denominazione_regione=Trento\", \"marker\": {\"color\": \"#B6E880\", \"symbol\": \"circle\"}, \"mode\": \"markers\", \"name\": \"denominazione_regione=Trento\", \"showlegend\": true, \"type\": \"scatter\", \"x\": [\"2020-02-24T18:00:00\", \"2020-02-25T18:00:00\", \"2020-02-26T18:00:00\", \"2020-02-27T18:00:00\", \"2020-02-28T18:00:00\", \"2020-02-29T17:00:00\", \"2020-03-01T17:00:00\", \"2020-03-02T18:00:00\", \"2020-03-03T18:00:00\", \"2020-03-04T17:00:00\", \"2020-03-05T17:00:00\", \"2020-03-06T17:00:00\"], \"xaxis\": \"x\", \"y\": [0, 0, 0, 0, 0, 0, 0, 0, 0, 0, 0, 0], \"yaxis\": \"y\"}, {\"hoverlabel\": {\"namelength\": 0}, \"hovertemplate\": \"<b>%{hovertext}</b><br><br>denominazione_regione=Umbria<br>data_pars=%{x}<br>terapia_intensiva=%{y}\", \"hovertext\": [0.0, 0.0, 0.0, 0.0, 0.0, 0.0, 2.0, 2.0, 8.0, 9.0, 9.0, 16.0], \"legendgroup\": \"denominazione_regione=Umbria\", \"marker\": {\"color\": \"#FF97FF\", \"symbol\": \"circle\"}, \"mode\": \"markers\", \"name\": \"denominazione_regione=Umbria\", \"showlegend\": true, \"type\": \"scatter\", \"x\": [\"2020-02-24T18:00:00\", \"2020-02-25T18:00:00\", \"2020-02-26T18:00:00\", \"2020-02-27T18:00:00\", \"2020-02-28T18:00:00\", \"2020-02-29T17:00:00\", \"2020-03-01T17:00:00\", \"2020-03-02T18:00:00\", \"2020-03-03T18:00:00\", \"2020-03-04T17:00:00\", \"2020-03-05T17:00:00\", \"2020-03-06T17:00:00\"], \"xaxis\": \"x\", \"y\": [0, 0, 0, 0, 0, 0, 0, 0, 1, 1, 1, 2], \"yaxis\": \"y\"}, {\"hoverlabel\": {\"namelength\": 0}, \"hovertemplate\": \"<b>%{hovertext}</b><br><br>denominazione_regione=Valle d'Aosta<br>data_pars=%{x}<br>terapia_intensiva=%{y}\", \"hovertext\": [0.0, 0.0, 0.0, 0.0, 0.0, 0.0, 0.0, 0.0, 0.0, 0.0, 2.0, 7.0], \"legendgroup\": \"denominazione_regione=Valle d'Aosta\", \"marker\": {\"color\": \"#FECB52\", \"symbol\": \"circle\"}, \"mode\": \"markers\", \"name\": \"denominazione_regione=Valle d'Aosta\", \"showlegend\": true, \"type\": \"scatter\", \"x\": [\"2020-02-24T18:00:00\", \"2020-02-25T18:00:00\", \"2020-02-26T18:00:00\", \"2020-02-27T18:00:00\", \"2020-02-28T18:00:00\", \"2020-02-29T17:00:00\", \"2020-03-01T17:00:00\", \"2020-03-02T18:00:00\", \"2020-03-03T18:00:00\", \"2020-03-04T17:00:00\", \"2020-03-05T17:00:00\", \"2020-03-06T17:00:00\"], \"xaxis\": \"x\", \"y\": [0, 0, 0, 0, 0, 0, 0, 0, 0, 0, 0, 0], \"yaxis\": \"y\"}, {\"hoverlabel\": {\"namelength\": 0}, \"hovertemplate\": \"<b>%{hovertext}</b><br><br>denominazione_regione=Veneto<br>data_pars=%{x}<br>terapia_intensiva=%{y}\", \"hovertext\": [33.0, 43.0, 71.0, 111.0, 151.0, 191.0, 263.0, 273.0, 307.0, 360.0, 407.0, 488.0], \"legendgroup\": \"denominazione_regione=Veneto\", \"marker\": {\"color\": \"#636efa\", \"symbol\": \"circle\"}, \"mode\": \"markers\", \"name\": \"denominazione_regione=Veneto\", \"showlegend\": true, \"type\": \"scatter\", \"x\": [\"2020-02-24T18:00:00\", \"2020-02-25T18:00:00\", \"2020-02-26T18:00:00\", \"2020-02-27T18:00:00\", \"2020-02-28T18:00:00\", \"2020-02-29T17:00:00\", \"2020-03-01T17:00:00\", \"2020-03-02T18:00:00\", \"2020-03-03T18:00:00\", \"2020-03-04T17:00:00\", \"2020-03-05T17:00:00\", \"2020-03-06T17:00:00\"], \"xaxis\": \"x\", \"y\": [4, 7, 8, 8, 9, 11, 13, 14, 19, 23, 24, 27], \"yaxis\": \"y\"}],\n",
       "                        {\"height\": 600, \"legend\": {\"tracegroupgap\": 0}, \"margin\": {\"t\": 60}, \"template\": {\"data\": {\"bar\": [{\"error_x\": {\"color\": \"#2a3f5f\"}, \"error_y\": {\"color\": \"#2a3f5f\"}, \"marker\": {\"line\": {\"color\": \"#E5ECF6\", \"width\": 0.5}}, \"type\": \"bar\"}], \"barpolar\": [{\"marker\": {\"line\": {\"color\": \"#E5ECF6\", \"width\": 0.5}}, \"type\": \"barpolar\"}], \"carpet\": [{\"aaxis\": {\"endlinecolor\": \"#2a3f5f\", \"gridcolor\": \"white\", \"linecolor\": \"white\", \"minorgridcolor\": \"white\", \"startlinecolor\": \"#2a3f5f\"}, \"baxis\": {\"endlinecolor\": \"#2a3f5f\", \"gridcolor\": \"white\", \"linecolor\": \"white\", \"minorgridcolor\": \"white\", \"startlinecolor\": \"#2a3f5f\"}, \"type\": \"carpet\"}], \"choropleth\": [{\"colorbar\": {\"outlinewidth\": 0, \"ticks\": \"\"}, \"type\": \"choropleth\"}], \"contour\": [{\"colorbar\": {\"outlinewidth\": 0, \"ticks\": \"\"}, \"colorscale\": [[0.0, \"#0d0887\"], [0.1111111111111111, \"#46039f\"], [0.2222222222222222, \"#7201a8\"], [0.3333333333333333, \"#9c179e\"], [0.4444444444444444, \"#bd3786\"], [0.5555555555555556, \"#d8576b\"], [0.6666666666666666, \"#ed7953\"], [0.7777777777777778, \"#fb9f3a\"], [0.8888888888888888, \"#fdca26\"], [1.0, \"#f0f921\"]], \"type\": \"contour\"}], \"contourcarpet\": [{\"colorbar\": {\"outlinewidth\": 0, \"ticks\": \"\"}, \"type\": \"contourcarpet\"}], \"heatmap\": [{\"colorbar\": {\"outlinewidth\": 0, \"ticks\": \"\"}, \"colorscale\": [[0.0, \"#0d0887\"], [0.1111111111111111, \"#46039f\"], [0.2222222222222222, \"#7201a8\"], [0.3333333333333333, \"#9c179e\"], [0.4444444444444444, \"#bd3786\"], [0.5555555555555556, \"#d8576b\"], [0.6666666666666666, \"#ed7953\"], [0.7777777777777778, \"#fb9f3a\"], [0.8888888888888888, \"#fdca26\"], [1.0, \"#f0f921\"]], \"type\": \"heatmap\"}], \"heatmapgl\": [{\"colorbar\": {\"outlinewidth\": 0, \"ticks\": \"\"}, \"colorscale\": [[0.0, \"#0d0887\"], [0.1111111111111111, \"#46039f\"], [0.2222222222222222, \"#7201a8\"], [0.3333333333333333, \"#9c179e\"], [0.4444444444444444, \"#bd3786\"], [0.5555555555555556, \"#d8576b\"], [0.6666666666666666, \"#ed7953\"], [0.7777777777777778, \"#fb9f3a\"], [0.8888888888888888, \"#fdca26\"], [1.0, \"#f0f921\"]], \"type\": \"heatmapgl\"}], \"histogram\": [{\"marker\": {\"colorbar\": {\"outlinewidth\": 0, \"ticks\": \"\"}}, \"type\": \"histogram\"}], \"histogram2d\": [{\"colorbar\": {\"outlinewidth\": 0, \"ticks\": \"\"}, \"colorscale\": [[0.0, \"#0d0887\"], [0.1111111111111111, \"#46039f\"], [0.2222222222222222, \"#7201a8\"], [0.3333333333333333, \"#9c179e\"], [0.4444444444444444, \"#bd3786\"], [0.5555555555555556, \"#d8576b\"], [0.6666666666666666, \"#ed7953\"], [0.7777777777777778, \"#fb9f3a\"], [0.8888888888888888, \"#fdca26\"], [1.0, \"#f0f921\"]], \"type\": \"histogram2d\"}], \"histogram2dcontour\": [{\"colorbar\": {\"outlinewidth\": 0, \"ticks\": \"\"}, \"colorscale\": [[0.0, \"#0d0887\"], [0.1111111111111111, \"#46039f\"], [0.2222222222222222, \"#7201a8\"], [0.3333333333333333, \"#9c179e\"], [0.4444444444444444, \"#bd3786\"], [0.5555555555555556, \"#d8576b\"], [0.6666666666666666, \"#ed7953\"], [0.7777777777777778, \"#fb9f3a\"], [0.8888888888888888, \"#fdca26\"], [1.0, \"#f0f921\"]], \"type\": \"histogram2dcontour\"}], \"mesh3d\": [{\"colorbar\": {\"outlinewidth\": 0, \"ticks\": \"\"}, \"type\": \"mesh3d\"}], \"parcoords\": [{\"line\": {\"colorbar\": {\"outlinewidth\": 0, \"ticks\": \"\"}}, \"type\": \"parcoords\"}], \"scatter\": [{\"marker\": {\"colorbar\": {\"outlinewidth\": 0, \"ticks\": \"\"}}, \"type\": \"scatter\"}], \"scatter3d\": [{\"line\": {\"colorbar\": {\"outlinewidth\": 0, \"ticks\": \"\"}}, \"marker\": {\"colorbar\": {\"outlinewidth\": 0, \"ticks\": \"\"}}, \"type\": \"scatter3d\"}], \"scattercarpet\": [{\"marker\": {\"colorbar\": {\"outlinewidth\": 0, \"ticks\": \"\"}}, \"type\": \"scattercarpet\"}], \"scattergeo\": [{\"marker\": {\"colorbar\": {\"outlinewidth\": 0, \"ticks\": \"\"}}, \"type\": \"scattergeo\"}], \"scattergl\": [{\"marker\": {\"colorbar\": {\"outlinewidth\": 0, \"ticks\": \"\"}}, \"type\": \"scattergl\"}], \"scattermapbox\": [{\"marker\": {\"colorbar\": {\"outlinewidth\": 0, \"ticks\": \"\"}}, \"type\": \"scattermapbox\"}], \"scatterpolar\": [{\"marker\": {\"colorbar\": {\"outlinewidth\": 0, \"ticks\": \"\"}}, \"type\": \"scatterpolar\"}], \"scatterpolargl\": [{\"marker\": {\"colorbar\": {\"outlinewidth\": 0, \"ticks\": \"\"}}, \"type\": \"scatterpolargl\"}], \"scatterternary\": [{\"marker\": {\"colorbar\": {\"outlinewidth\": 0, \"ticks\": \"\"}}, \"type\": \"scatterternary\"}], \"surface\": [{\"colorbar\": {\"outlinewidth\": 0, \"ticks\": \"\"}, \"colorscale\": [[0.0, \"#0d0887\"], [0.1111111111111111, \"#46039f\"], [0.2222222222222222, \"#7201a8\"], [0.3333333333333333, \"#9c179e\"], [0.4444444444444444, \"#bd3786\"], [0.5555555555555556, \"#d8576b\"], [0.6666666666666666, \"#ed7953\"], [0.7777777777777778, \"#fb9f3a\"], [0.8888888888888888, \"#fdca26\"], [1.0, \"#f0f921\"]], \"type\": \"surface\"}], \"table\": [{\"cells\": {\"fill\": {\"color\": \"#EBF0F8\"}, \"line\": {\"color\": \"white\"}}, \"header\": {\"fill\": {\"color\": \"#C8D4E3\"}, \"line\": {\"color\": \"white\"}}, \"type\": \"table\"}]}, \"layout\": {\"annotationdefaults\": {\"arrowcolor\": \"#2a3f5f\", \"arrowhead\": 0, \"arrowwidth\": 1}, \"colorscale\": {\"diverging\": [[0, \"#8e0152\"], [0.1, \"#c51b7d\"], [0.2, \"#de77ae\"], [0.3, \"#f1b6da\"], [0.4, \"#fde0ef\"], [0.5, \"#f7f7f7\"], [0.6, \"#e6f5d0\"], [0.7, \"#b8e186\"], [0.8, \"#7fbc41\"], [0.9, \"#4d9221\"], [1, \"#276419\"]], \"sequential\": [[0.0, \"#0d0887\"], [0.1111111111111111, \"#46039f\"], [0.2222222222222222, \"#7201a8\"], [0.3333333333333333, \"#9c179e\"], [0.4444444444444444, \"#bd3786\"], [0.5555555555555556, \"#d8576b\"], [0.6666666666666666, \"#ed7953\"], [0.7777777777777778, \"#fb9f3a\"], [0.8888888888888888, \"#fdca26\"], [1.0, \"#f0f921\"]], \"sequentialminus\": [[0.0, \"#0d0887\"], [0.1111111111111111, \"#46039f\"], [0.2222222222222222, \"#7201a8\"], [0.3333333333333333, \"#9c179e\"], [0.4444444444444444, \"#bd3786\"], [0.5555555555555556, \"#d8576b\"], [0.6666666666666666, \"#ed7953\"], [0.7777777777777778, \"#fb9f3a\"], [0.8888888888888888, \"#fdca26\"], [1.0, \"#f0f921\"]]}, \"colorway\": [\"#636efa\", \"#EF553B\", \"#00cc96\", \"#ab63fa\", \"#FFA15A\", \"#19d3f3\", \"#FF6692\", \"#B6E880\", \"#FF97FF\", \"#FECB52\"], \"font\": {\"color\": \"#2a3f5f\"}, \"geo\": {\"bgcolor\": \"white\", \"lakecolor\": \"white\", \"landcolor\": \"#E5ECF6\", \"showlakes\": true, \"showland\": true, \"subunitcolor\": \"white\"}, \"hoverlabel\": {\"align\": \"left\"}, \"hovermode\": \"closest\", \"mapbox\": {\"style\": \"light\"}, \"paper_bgcolor\": \"white\", \"plot_bgcolor\": \"#E5ECF6\", \"polar\": {\"angularaxis\": {\"gridcolor\": \"white\", \"linecolor\": \"white\", \"ticks\": \"\"}, \"bgcolor\": \"#E5ECF6\", \"radialaxis\": {\"gridcolor\": \"white\", \"linecolor\": \"white\", \"ticks\": \"\"}}, \"scene\": {\"xaxis\": {\"backgroundcolor\": \"#E5ECF6\", \"gridcolor\": \"white\", \"gridwidth\": 2, \"linecolor\": \"white\", \"showbackground\": true, \"ticks\": \"\", \"zerolinecolor\": \"white\"}, \"yaxis\": {\"backgroundcolor\": \"#E5ECF6\", \"gridcolor\": \"white\", \"gridwidth\": 2, \"linecolor\": \"white\", \"showbackground\": true, \"ticks\": \"\", \"zerolinecolor\": \"white\"}, \"zaxis\": {\"backgroundcolor\": \"#E5ECF6\", \"gridcolor\": \"white\", \"gridwidth\": 2, \"linecolor\": \"white\", \"showbackground\": true, \"ticks\": \"\", \"zerolinecolor\": \"white\"}}, \"shapedefaults\": {\"line\": {\"color\": \"#2a3f5f\"}}, \"ternary\": {\"aaxis\": {\"gridcolor\": \"white\", \"linecolor\": \"white\", \"ticks\": \"\"}, \"baxis\": {\"gridcolor\": \"white\", \"linecolor\": \"white\", \"ticks\": \"\"}, \"bgcolor\": \"#E5ECF6\", \"caxis\": {\"gridcolor\": \"white\", \"linecolor\": \"white\", \"ticks\": \"\"}}, \"title\": {\"x\": 0.05}, \"xaxis\": {\"automargin\": true, \"gridcolor\": \"white\", \"linecolor\": \"white\", \"ticks\": \"\", \"zerolinecolor\": \"white\", \"zerolinewidth\": 2}, \"yaxis\": {\"automargin\": true, \"gridcolor\": \"white\", \"linecolor\": \"white\", \"ticks\": \"\", \"zerolinecolor\": \"white\", \"zerolinewidth\": 2}}}, \"xaxis\": {\"anchor\": \"y\", \"domain\": [0.0, 0.98], \"title\": {\"text\": \"data_pars\"}}, \"yaxis\": {\"anchor\": \"x\", \"domain\": [0.0, 1.0], \"title\": {\"text\": \"terapia_intensiva\"}}},\n",
       "                        {\"responsive\": true}\n",
       "                    ).then(function(){\n",
       "                            \n",
       "var gd = document.getElementById('38b25a4f-fd5a-4abe-aa1a-e403a2383ebb');\n",
       "var x = new MutationObserver(function (mutations, observer) {{\n",
       "        var display = window.getComputedStyle(gd).display;\n",
       "        if (!display || display === 'none') {{\n",
       "            console.log([gd, 'removed!']);\n",
       "            Plotly.purge(gd);\n",
       "            observer.disconnect();\n",
       "        }}\n",
       "}});\n",
       "\n",
       "// Listen for the removal of the full notebook cells\n",
       "var notebookContainer = gd.closest('#notebook-container');\n",
       "if (notebookContainer) {{\n",
       "    x.observe(notebookContainer, {childList: true});\n",
       "}}\n",
       "\n",
       "// Listen for the clearing of the current output cell\n",
       "var outputEl = gd.closest('.output');\n",
       "if (outputEl) {{\n",
       "    x.observe(outputEl, {childList: true});\n",
       "}}\n",
       "\n",
       "                        })\n",
       "                };\n",
       "                });\n",
       "            </script>\n",
       "        </div>"
      ]
     },
     "metadata": {},
     "output_type": "display_data"
    }
   ],
   "source": [
    "## PLOTLY INTERACTIVE\n",
    "### to see it click on theta symbol next to first chunk\n",
    "fig = px.scatter(dfreg, x=\"data_pars\", y=\"terapia_intensiva\", color=\"denominazione_regione\",\n",
    "                 hover_name=\"totale_casi\"#,size=\"tamponi_positivi\"\n",
    "                )\n",
    "\n",
    "fig.show()"
   ]
  },
  {
   "cell_type": "code",
   "execution_count": null,
   "metadata": {},
   "outputs": [],
   "source": []
  }
 ],
 "metadata": {
  "kernelspec": {
   "display_name": "Python 3",
   "language": "python",
   "name": "python3"
  },
  "language_info": {
   "codemirror_mode": {
    "name": "ipython",
    "version": 3
   },
   "file_extension": ".py",
   "mimetype": "text/x-python",
   "name": "python",
   "nbconvert_exporter": "python",
   "pygments_lexer": "ipython3",
   "version": "3.7.4"
  }
 },
 "nbformat": 4,
 "nbformat_minor": 2
}
